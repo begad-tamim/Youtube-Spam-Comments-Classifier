{
 "cells": [
  {
   "attachments": {},
   "cell_type": "markdown",
   "metadata": {},
   "source": [
    "# Youtube Spam Comments Classifier"
   ]
  },
  {
   "attachments": {},
   "cell_type": "markdown",
   "metadata": {},
   "source": [
    "## Glossary\n",
    "[ - Including Necessary Libraries](#libs)\n",
    "<br>\n",
    "[ - Importing the Dataset](#dataset)\n",
    "<br>\n",
    "[- Visualization](#v)\n",
    "<br>\n",
    "[ - Support vector machine (SVM)](#m1)\n",
    "<br>\n",
    "[ - Logistic Regression](#m2)\n",
    "<br>\n",
    "[ - Decision Tree](#m3)\n",
    "<br>\n",
    "[ - Comparison Plot Between The Three Models](#comp)"
   ]
  },
  {
   "attachments": {},
   "cell_type": "markdown",
   "metadata": {},
   "source": [
    "## Including Necessary Libraries <a id='libs'></a>"
   ]
  },
  {
   "cell_type": "code",
   "execution_count": 1,
   "metadata": {},
   "outputs": [],
   "source": [
    "import pandas as pd\n",
    "import numpy as np\n",
    "import matplotlib.pyplot as plt\n",
    "import seaborn as sns\n",
    "from sklearn.model_selection import train_test_split\n",
    "from sklearn import svm \n",
    "from sklearn.model_selection import train_test_split, GridSearchCV\n",
    "from sklearn.feature_extraction.text import TfidfVectorizer\n",
    "from sklearn.metrics import confusion_matrix, classification_report\n",
    "from sklearn.linear_model import LogisticRegression\n",
    "from sklearn.svm import SVC\n",
    "from sklearn.model_selection import cross_val_score\n",
    "from sklearn.tree import DecisionTreeClassifier"
   ]
  },
  {
   "attachments": {},
   "cell_type": "markdown",
   "metadata": {},
   "source": [
    "## Importing the Dataset <a id='dataset'></a>"
   ]
  },
  {
   "attachments": {},
   "cell_type": "markdown",
   "metadata": {},
   "source": [
    "Read the data from five different CSV files. Each CSV file corresponds to a specific YouTube artist (Psy, Katy Perry, LMFAO, Eminem, Shakira) and contains data related to their respective YouTube videos"
   ]
  },
  {
   "cell_type": "code",
   "execution_count": 2,
   "metadata": {},
   "outputs": [
    {
     "data": {
      "text/html": [
       "<div>\n",
       "<style scoped>\n",
       "    .dataframe tbody tr th:only-of-type {\n",
       "        vertical-align: middle;\n",
       "    }\n",
       "\n",
       "    .dataframe tbody tr th {\n",
       "        vertical-align: top;\n",
       "    }\n",
       "\n",
       "    .dataframe thead th {\n",
       "        text-align: right;\n",
       "    }\n",
       "</style>\n",
       "<table border=\"1\" class=\"dataframe\">\n",
       "  <thead>\n",
       "    <tr style=\"text-align: right;\">\n",
       "      <th></th>\n",
       "      <th>COMMENT_ID</th>\n",
       "      <th>AUTHOR</th>\n",
       "      <th>DATE</th>\n",
       "      <th>CONTENT</th>\n",
       "      <th>CLASS</th>\n",
       "    </tr>\n",
       "  </thead>\n",
       "  <tbody>\n",
       "    <tr>\n",
       "      <th>213</th>\n",
       "      <td>z12iircxtsjpwvqbd04chjzbemjtj5kohxg0k</td>\n",
       "      <td>Bert Dionne</td>\n",
       "      <td>2014-11-07T18:05:40</td>\n",
       "      <td>The most liked video on YouTube...﻿</td>\n",
       "      <td>0</td>\n",
       "    </tr>\n",
       "    <tr>\n",
       "      <th>342</th>\n",
       "      <td>z12uyzhazxqkzbrzz04cedqpkwzdvjyy3u40k</td>\n",
       "      <td>Brandon Wilson</td>\n",
       "      <td>2014-11-14T12:21:52</td>\n",
       "      <td>Why does a song like this have more views than...</td>\n",
       "      <td>0</td>\n",
       "    </tr>\n",
       "    <tr>\n",
       "      <th>81</th>\n",
       "      <td>z12jud4o3n34v5wph04ce3db0y2njn55gog0k</td>\n",
       "      <td>Kaya Roberts</td>\n",
       "      <td>2014-11-02T20:00:37</td>\n",
       "      <td>Admit it you just came here to check the numbe...</td>\n",
       "      <td>0</td>\n",
       "    </tr>\n",
       "    <tr>\n",
       "      <th>304</th>\n",
       "      <td>z13xwborhli2vdrab04chblgxvjattz4ezs0k</td>\n",
       "      <td>Luna Gamer Potter</td>\n",
       "      <td>2014-11-09T02:42:40</td>\n",
       "      <td>I hate this song! ﻿</td>\n",
       "      <td>0</td>\n",
       "    </tr>\n",
       "    <tr>\n",
       "      <th>315</th>\n",
       "      <td>z12ig3jrnlfvsthaa04chjkrply5zligbdg</td>\n",
       "      <td>Aaa Aaa</td>\n",
       "      <td>2014-11-12T05:46:27</td>\n",
       "      <td>PLEASE SUBSCRIBE ME!!!!!!!!!!!!!!!!!!!!!!!!!!!...</td>\n",
       "      <td>1</td>\n",
       "    </tr>\n",
       "    <tr>\n",
       "      <th>266</th>\n",
       "      <td>z12mfnjahrvcgjh4004cdf3buuzshjsrzhw</td>\n",
       "      <td>Kincaid Liebenberg</td>\n",
       "      <td>2014-11-08T05:36:38</td>\n",
       "      <td>PSY is a good guy﻿</td>\n",
       "      <td>0</td>\n",
       "    </tr>\n",
       "    <tr>\n",
       "      <th>130</th>\n",
       "      <td>z12dzlpo0ueie1go404cfjjwsxf1g1lrtdo</td>\n",
       "      <td>Amir effect</td>\n",
       "      <td>2014-11-05T17:18:14</td>\n",
       "      <td>Can somebody wake me up when we get to 3 billi...</td>\n",
       "      <td>0</td>\n",
       "    </tr>\n",
       "    <tr>\n",
       "      <th>277</th>\n",
       "      <td>z12th3fqdqq5yn0tq23rzboi3wb4tft0y</td>\n",
       "      <td>Markus Mairhofer</td>\n",
       "      <td>2014-11-08T08:49:47</td>\n",
       "      <td>Hey, join me on tsū, a publishing platform whe...</td>\n",
       "      <td>1</td>\n",
       "    </tr>\n",
       "    <tr>\n",
       "      <th>135</th>\n",
       "      <td>z12uw5z5roiqel3ds22iifbhbmnijn1qz04</td>\n",
       "      <td>Noah François</td>\n",
       "      <td>2014-11-05T20:15:09</td>\n",
       "      <td>Ahhh, 2 years ago....﻿</td>\n",
       "      <td>0</td>\n",
       "    </tr>\n",
       "    <tr>\n",
       "      <th>283</th>\n",
       "      <td>z12qxl3xupmjsbzzg04cfzegyw3xfjjjpfc</td>\n",
       "      <td>StarBlade34 OverLord</td>\n",
       "      <td>2014-11-08T09:34:57</td>\n",
       "      <td>Lol this youtuber (officialpsy) is getting so ...</td>\n",
       "      <td>0</td>\n",
       "    </tr>\n",
       "  </tbody>\n",
       "</table>\n",
       "</div>"
      ],
      "text/plain": [
       "                                COMMENT_ID                AUTHOR  \\\n",
       "213  z12iircxtsjpwvqbd04chjzbemjtj5kohxg0k           Bert Dionne   \n",
       "342  z12uyzhazxqkzbrzz04cedqpkwzdvjyy3u40k        Brandon Wilson   \n",
       "81   z12jud4o3n34v5wph04ce3db0y2njn55gog0k          Kaya Roberts   \n",
       "304  z13xwborhli2vdrab04chblgxvjattz4ezs0k     Luna Gamer Potter   \n",
       "315    z12ig3jrnlfvsthaa04chjkrply5zligbdg               Aaa Aaa   \n",
       "266    z12mfnjahrvcgjh4004cdf3buuzshjsrzhw    Kincaid Liebenberg   \n",
       "130    z12dzlpo0ueie1go404cfjjwsxf1g1lrtdo           Amir effect   \n",
       "277      z12th3fqdqq5yn0tq23rzboi3wb4tft0y      Markus Mairhofer   \n",
       "135    z12uw5z5roiqel3ds22iifbhbmnijn1qz04         Noah François   \n",
       "283    z12qxl3xupmjsbzzg04cfzegyw3xfjjjpfc  StarBlade34 OverLord   \n",
       "\n",
       "                    DATE                                            CONTENT  \\\n",
       "213  2014-11-07T18:05:40                The most liked video on YouTube...﻿   \n",
       "342  2014-11-14T12:21:52  Why does a song like this have more views than...   \n",
       "81   2014-11-02T20:00:37  Admit it you just came here to check the numbe...   \n",
       "304  2014-11-09T02:42:40                                I hate this song! ﻿   \n",
       "315  2014-11-12T05:46:27  PLEASE SUBSCRIBE ME!!!!!!!!!!!!!!!!!!!!!!!!!!!...   \n",
       "266  2014-11-08T05:36:38                                 PSY is a good guy﻿   \n",
       "130  2014-11-05T17:18:14  Can somebody wake me up when we get to 3 billi...   \n",
       "277  2014-11-08T08:49:47  Hey, join me on tsū, a publishing platform whe...   \n",
       "135  2014-11-05T20:15:09                             Ahhh, 2 years ago....﻿   \n",
       "283  2014-11-08T09:34:57  Lol this youtuber (officialpsy) is getting so ...   \n",
       "\n",
       "     CLASS  \n",
       "213      0  \n",
       "342      0  \n",
       "81       0  \n",
       "304      0  \n",
       "315      1  \n",
       "266      0  \n",
       "130      0  \n",
       "277      1  \n",
       "135      0  \n",
       "283      0  "
      ]
     },
     "execution_count": 2,
     "metadata": {},
     "output_type": "execute_result"
    }
   ],
   "source": [
    "Psy = pd.read_csv('./Datasets/Youtube01-Psy.csv')\n",
    "Katy = pd.read_csv('./Datasets/Youtube02-KatyPerry.csv')\n",
    "Lmfao = pd.read_csv('./Datasets/Youtube03-LMFAO.csv')\n",
    "Eminem = pd.read_csv('./Datasets/Youtube04-Eminem.csv')\n",
    "Shakira = pd.read_csv('./Datasets/Youtube05-Shakira.csv')\n",
    "Psy.sample(10)"
   ]
  },
  {
   "cell_type": "code",
   "execution_count": 3,
   "metadata": {},
   "outputs": [],
   "source": [
    "Psy[\"CHANNEL_NAME\"] = \"officialpsy\"\n",
    "Katy[\"CHANNEL_NAME\"] = \"Katy Perry\"\n",
    "Lmfao[\"CHANNEL_NAME\"] = \"LMFAO\"\n",
    "Shakira[\"CHANNEL_NAME\"] = \"Shakira\"\n",
    "Eminem[\"CHANNEL_NAME\"] = \"EminemMusic\""
   ]
  },
  {
   "attachments": {},
   "cell_type": "markdown",
   "metadata": {},
   "source": [
    " concatenates multiple DataFrames, namely 'Psy', 'Katy', 'Lmfao', 'Eminem', and 'Shakira', into a single DataFrame called 'C_S'.<br>The resulting concatenated DataFrame, 'C_S', will contain all the rows and columns from the individual DataFrames stacked vertically."
   ]
  },
  {
   "cell_type": "code",
   "execution_count": 4,
   "metadata": {},
   "outputs": [
    {
     "data": {
      "text/html": [
       "<div>\n",
       "<style scoped>\n",
       "    .dataframe tbody tr th:only-of-type {\n",
       "        vertical-align: middle;\n",
       "    }\n",
       "\n",
       "    .dataframe tbody tr th {\n",
       "        vertical-align: top;\n",
       "    }\n",
       "\n",
       "    .dataframe thead th {\n",
       "        text-align: right;\n",
       "    }\n",
       "</style>\n",
       "<table border=\"1\" class=\"dataframe\">\n",
       "  <thead>\n",
       "    <tr style=\"text-align: right;\">\n",
       "      <th></th>\n",
       "      <th>COMMENT_ID</th>\n",
       "      <th>AUTHOR</th>\n",
       "      <th>DATE</th>\n",
       "      <th>CONTENT</th>\n",
       "      <th>CLASS</th>\n",
       "      <th>CHANNEL_NAME</th>\n",
       "    </tr>\n",
       "  </thead>\n",
       "  <tbody>\n",
       "    <tr>\n",
       "      <th>411</th>\n",
       "      <td>z12acz2r2qiwxtpwy04cihii5rmwefpzeao</td>\n",
       "      <td>InfernoGaming</td>\n",
       "      <td>2015-05-19T23:19:47.316000</td>\n",
       "      <td>:D﻿</td>\n",
       "      <td>0</td>\n",
       "      <td>EminemMusic</td>\n",
       "    </tr>\n",
       "    <tr>\n",
       "      <th>221</th>\n",
       "      <td>_2viQ_Qnc694tFwvOhmFcrz4GGaxVyxStdYmFH-nR68</td>\n",
       "      <td>5000palo</td>\n",
       "      <td>2013-10-04T16:15:05.278000</td>\n",
       "      <td>I want new song</td>\n",
       "      <td>0</td>\n",
       "      <td>Shakira</td>\n",
       "    </tr>\n",
       "    <tr>\n",
       "      <th>218</th>\n",
       "      <td>z12xczhjizrzuhvlp22gh3apkrasg3ggt04</td>\n",
       "      <td>Ben Stalker</td>\n",
       "      <td>2014-11-07T19:27:45</td>\n",
       "      <td>GANGMAN STY- *D-D-D-D-D-D--DROP THE BASS!!*﻿</td>\n",
       "      <td>0</td>\n",
       "      <td>officialpsy</td>\n",
       "    </tr>\n",
       "    <tr>\n",
       "      <th>120</th>\n",
       "      <td>z13tuhvy3vmwxbprk04ci35w5luiwfi4lgk</td>\n",
       "      <td>strong heart</td>\n",
       "      <td>2015-05-21T08:00:58.240000</td>\n",
       "      <td>wow</td>\n",
       "      <td>0</td>\n",
       "      <td>Shakira</td>\n",
       "    </tr>\n",
       "    <tr>\n",
       "      <th>92</th>\n",
       "      <td>z13xwb3adyricdunf223txebnov1f1aiz04</td>\n",
       "      <td>Gram Bangla</td>\n",
       "      <td>2014-09-12T09:03:16</td>\n",
       "      <td>WOW VERY NICE CONGRASULATION I LIVE SO MUCH ht...</td>\n",
       "      <td>1</td>\n",
       "      <td>Katy Perry</td>\n",
       "    </tr>\n",
       "    <tr>\n",
       "      <th>97</th>\n",
       "      <td>z135jnejqyylxvxc323tifugxr3idl1oq04</td>\n",
       "      <td>Monwar Sarkar</td>\n",
       "      <td>2014-11-04T00:18:07</td>\n",
       "      <td>Please help me go here http://www.gofundme.com...</td>\n",
       "      <td>1</td>\n",
       "      <td>officialpsy</td>\n",
       "    </tr>\n",
       "    <tr>\n",
       "      <th>14</th>\n",
       "      <td>z13usjdoivinwzsoy04cgv2y0tbjs1s5xn00k</td>\n",
       "      <td>Karolína Hlavatá</td>\n",
       "      <td>2015-05-27T14:41:43.081000</td>\n",
       "      <td>wery good﻿</td>\n",
       "      <td>0</td>\n",
       "      <td>Shakira</td>\n",
       "    </tr>\n",
       "    <tr>\n",
       "      <th>128</th>\n",
       "      <td>z13xg5zjtp3sfxm4a04cf1bolmzvu154bto0k</td>\n",
       "      <td>Marsonal Carrey</td>\n",
       "      <td>2015-05-26T17:25:43.332000</td>\n",
       "      <td>1,000,000 VIEWS NEAR﻿</td>\n",
       "      <td>0</td>\n",
       "      <td>EminemMusic</td>\n",
       "    </tr>\n",
       "    <tr>\n",
       "      <th>388</th>\n",
       "      <td>z13wz10yyn3wz3fu523zzzeackarhvpu4</td>\n",
       "      <td>bebishyne alicdan</td>\n",
       "      <td>2014-10-04T13:16:55.971000</td>\n",
       "      <td>Check out this video on YouTube:﻿</td>\n",
       "      <td>1</td>\n",
       "      <td>LMFAO</td>\n",
       "    </tr>\n",
       "    <tr>\n",
       "      <th>65</th>\n",
       "      <td>z13bejijvrbdy5mrg04cgv3bjvubyxoi050</td>\n",
       "      <td>GGSCommunity</td>\n",
       "      <td>2014-09-07T22:36:24</td>\n",
       "      <td>Like Gorlin-Goltz Syndrome Support Community, ...</td>\n",
       "      <td>1</td>\n",
       "      <td>Katy Perry</td>\n",
       "    </tr>\n",
       "  </tbody>\n",
       "</table>\n",
       "</div>"
      ],
      "text/plain": [
       "                                      COMMENT_ID             AUTHOR  \\\n",
       "411          z12acz2r2qiwxtpwy04cihii5rmwefpzeao      InfernoGaming   \n",
       "221  _2viQ_Qnc694tFwvOhmFcrz4GGaxVyxStdYmFH-nR68           5000palo   \n",
       "218          z12xczhjizrzuhvlp22gh3apkrasg3ggt04        Ben Stalker   \n",
       "120          z13tuhvy3vmwxbprk04ci35w5luiwfi4lgk       strong heart   \n",
       "92           z13xwb3adyricdunf223txebnov1f1aiz04        Gram Bangla   \n",
       "97           z135jnejqyylxvxc323tifugxr3idl1oq04      Monwar Sarkar   \n",
       "14         z13usjdoivinwzsoy04cgv2y0tbjs1s5xn00k   Karolína Hlavatá   \n",
       "128        z13xg5zjtp3sfxm4a04cf1bolmzvu154bto0k    Marsonal Carrey   \n",
       "388            z13wz10yyn3wz3fu523zzzeackarhvpu4  bebishyne alicdan   \n",
       "65           z13bejijvrbdy5mrg04cgv3bjvubyxoi050       GGSCommunity   \n",
       "\n",
       "                           DATE  \\\n",
       "411  2015-05-19T23:19:47.316000   \n",
       "221  2013-10-04T16:15:05.278000   \n",
       "218         2014-11-07T19:27:45   \n",
       "120  2015-05-21T08:00:58.240000   \n",
       "92          2014-09-12T09:03:16   \n",
       "97          2014-11-04T00:18:07   \n",
       "14   2015-05-27T14:41:43.081000   \n",
       "128  2015-05-26T17:25:43.332000   \n",
       "388  2014-10-04T13:16:55.971000   \n",
       "65          2014-09-07T22:36:24   \n",
       "\n",
       "                                               CONTENT  CLASS CHANNEL_NAME  \n",
       "411                                                :D﻿      0  EminemMusic  \n",
       "221                                    I want new song      0      Shakira  \n",
       "218       GANGMAN STY- *D-D-D-D-D-D--DROP THE BASS!!*﻿      0  officialpsy  \n",
       "120                                                wow      0      Shakira  \n",
       "92   WOW VERY NICE CONGRASULATION I LIVE SO MUCH ht...      1   Katy Perry  \n",
       "97   Please help me go here http://www.gofundme.com...      1  officialpsy  \n",
       "14                                          wery good﻿      0      Shakira  \n",
       "128                              1,000,000 VIEWS NEAR﻿      0  EminemMusic  \n",
       "388                  Check out this video on YouTube:﻿      1        LMFAO  \n",
       "65   Like Gorlin-Goltz Syndrome Support Community, ...      1   Katy Perry  "
      ]
     },
     "execution_count": 4,
     "metadata": {},
     "output_type": "execute_result"
    }
   ],
   "source": [
    "C_S = pd.concat([Psy, Katy, Lmfao, Eminem, Shakira])\n",
    "C_S.sample(10)"
   ]
  },
  {
   "cell_type": "code",
   "execution_count": 5,
   "metadata": {},
   "outputs": [
    {
     "data": {
      "text/html": [
       "<div>\n",
       "<style scoped>\n",
       "    .dataframe tbody tr th:only-of-type {\n",
       "        vertical-align: middle;\n",
       "    }\n",
       "\n",
       "    .dataframe tbody tr th {\n",
       "        vertical-align: top;\n",
       "    }\n",
       "\n",
       "    .dataframe thead th {\n",
       "        text-align: right;\n",
       "    }\n",
       "</style>\n",
       "<table border=\"1\" class=\"dataframe\">\n",
       "  <thead>\n",
       "    <tr style=\"text-align: right;\">\n",
       "      <th></th>\n",
       "      <th>Id</th>\n",
       "      <th>Comment Author</th>\n",
       "      <th>Date</th>\n",
       "      <th>Content</th>\n",
       "      <th>Ham/Spam</th>\n",
       "      <th>Channel Name</th>\n",
       "    </tr>\n",
       "  </thead>\n",
       "  <tbody>\n",
       "    <tr>\n",
       "      <th>304</th>\n",
       "      <td>z13xwborhli2vdrab04chblgxvjattz4ezs0k</td>\n",
       "      <td>Luna Gamer Potter</td>\n",
       "      <td>2014-11-09T02:42:40</td>\n",
       "      <td>I hate this song! ﻿</td>\n",
       "      <td>0</td>\n",
       "      <td>officialpsy</td>\n",
       "    </tr>\n",
       "    <tr>\n",
       "      <th>133</th>\n",
       "      <td>z130ilq4jomxx1poy04cjvniyzbqjzrjpqc0k</td>\n",
       "      <td>Play Now</td>\n",
       "      <td>2015-05-20T10:06:29.780000</td>\n",
       "      <td>like me﻿</td>\n",
       "      <td>0</td>\n",
       "      <td>Shakira</td>\n",
       "    </tr>\n",
       "    <tr>\n",
       "      <th>344</th>\n",
       "      <td>_2viQ_Qnc68ki9xsFeN2y1_ZiHYcZC8Qv1GyHfwqr7Y</td>\n",
       "      <td>steven reed</td>\n",
       "      <td>2013-07-19T22:12:16.609000</td>\n",
       "      <td>Please check out and send to others Freedom an...</td>\n",
       "      <td>1</td>\n",
       "      <td>Shakira</td>\n",
       "    </tr>\n",
       "    <tr>\n",
       "      <th>207</th>\n",
       "      <td>z13wxrnxjxz3wj3tn22sv33o0xyev5jfa</td>\n",
       "      <td>Durgesh Rathod</td>\n",
       "      <td>2015-05-24T09:57:50.220000</td>\n",
       "      <td>fav.﻿</td>\n",
       "      <td>0</td>\n",
       "      <td>EminemMusic</td>\n",
       "    </tr>\n",
       "    <tr>\n",
       "      <th>136</th>\n",
       "      <td>z130g5myrnncvnns3225s5jqjkqwi5de2</td>\n",
       "      <td>Samuel Hsu</td>\n",
       "      <td>2015-05-20T02:24:46.417000</td>\n",
       "      <td>I love this song and expect the World Cup .﻿</td>\n",
       "      <td>0</td>\n",
       "      <td>Shakira</td>\n",
       "    </tr>\n",
       "    <tr>\n",
       "      <th>237</th>\n",
       "      <td>_2viQ_Qnc6-M29TD0eSrvhfMU9n1v7kunCbSMqnODXg</td>\n",
       "      <td>Abdullah Alawani</td>\n",
       "      <td>2013-10-02T12:49:44.963000</td>\n",
       "      <td>I love you</td>\n",
       "      <td>0</td>\n",
       "      <td>Shakira</td>\n",
       "    </tr>\n",
       "    <tr>\n",
       "      <th>87</th>\n",
       "      <td>z13lvdcijuj5znbge04cc1iawv3eezsbbjo</td>\n",
       "      <td>Рустем Ахметов</td>\n",
       "      <td>2015-05-23T10:13:32.711000</td>\n",
       "      <td>GREAT!!!﻿</td>\n",
       "      <td>0</td>\n",
       "      <td>Shakira</td>\n",
       "    </tr>\n",
       "    <tr>\n",
       "      <th>409</th>\n",
       "      <td>z122djvavnibdrr1j23pjbm4szvfuzlzd04</td>\n",
       "      <td>RandomFuntime</td>\n",
       "      <td>2014-08-04T13:27:47.451000</td>\n",
       "      <td>Hey I&amp;#39;m a British youtuber!!&lt;br /&gt;I upload...</td>\n",
       "      <td>1</td>\n",
       "      <td>LMFAO</td>\n",
       "    </tr>\n",
       "    <tr>\n",
       "      <th>300</th>\n",
       "      <td>_2viQ_Qnc6_m4670hGGDwGjYreYnRR8359YYmuS_lDA</td>\n",
       "      <td>Adam Whitney</td>\n",
       "      <td>2013-08-26T05:24:14.644000</td>\n",
       "      <td>Hello everyone :) I know most of you probably ...</td>\n",
       "      <td>1</td>\n",
       "      <td>Shakira</td>\n",
       "    </tr>\n",
       "    <tr>\n",
       "      <th>40</th>\n",
       "      <td>z13lhdo5vnyndj3p304cjjs4zze3sldrqbg</td>\n",
       "      <td>Mai Nguyễn</td>\n",
       "      <td>2014-08-28T03:53:35</td>\n",
       "      <td>help me click on the subscribe Mai Nguyen, tha...</td>\n",
       "      <td>1</td>\n",
       "      <td>Katy Perry</td>\n",
       "    </tr>\n",
       "  </tbody>\n",
       "</table>\n",
       "</div>"
      ],
      "text/plain": [
       "                                              Id     Comment Author  \\\n",
       "304        z13xwborhli2vdrab04chblgxvjattz4ezs0k  Luna Gamer Potter   \n",
       "133        z130ilq4jomxx1poy04cjvniyzbqjzrjpqc0k           Play Now   \n",
       "344  _2viQ_Qnc68ki9xsFeN2y1_ZiHYcZC8Qv1GyHfwqr7Y        steven reed   \n",
       "207            z13wxrnxjxz3wj3tn22sv33o0xyev5jfa     Durgesh Rathod   \n",
       "136            z130g5myrnncvnns3225s5jqjkqwi5de2         Samuel Hsu   \n",
       "237  _2viQ_Qnc6-M29TD0eSrvhfMU9n1v7kunCbSMqnODXg   Abdullah Alawani   \n",
       "87           z13lvdcijuj5znbge04cc1iawv3eezsbbjo     Рустем Ахметов   \n",
       "409          z122djvavnibdrr1j23pjbm4szvfuzlzd04      RandomFuntime   \n",
       "300  _2viQ_Qnc6_m4670hGGDwGjYreYnRR8359YYmuS_lDA       Adam Whitney   \n",
       "40           z13lhdo5vnyndj3p304cjjs4zze3sldrqbg         Mai Nguyễn   \n",
       "\n",
       "                           Date  \\\n",
       "304         2014-11-09T02:42:40   \n",
       "133  2015-05-20T10:06:29.780000   \n",
       "344  2013-07-19T22:12:16.609000   \n",
       "207  2015-05-24T09:57:50.220000   \n",
       "136  2015-05-20T02:24:46.417000   \n",
       "237  2013-10-02T12:49:44.963000   \n",
       "87   2015-05-23T10:13:32.711000   \n",
       "409  2014-08-04T13:27:47.451000   \n",
       "300  2013-08-26T05:24:14.644000   \n",
       "40          2014-08-28T03:53:35   \n",
       "\n",
       "                                               Content  Ham/Spam Channel Name  \n",
       "304                                I hate this song! ﻿         0  officialpsy  \n",
       "133                                           like me﻿         0      Shakira  \n",
       "344  Please check out and send to others Freedom an...         1      Shakira  \n",
       "207                                              fav.﻿         0  EminemMusic  \n",
       "136       I love this song and expect the World Cup .﻿         0      Shakira  \n",
       "237                                         I love you         0      Shakira  \n",
       "87                                           GREAT!!!﻿         0      Shakira  \n",
       "409  Hey I&#39;m a British youtuber!!<br />I upload...         1        LMFAO  \n",
       "300  Hello everyone :) I know most of you probably ...         1      Shakira  \n",
       "40   help me click on the subscribe Mai Nguyen, tha...         1   Katy Perry  "
      ]
     },
     "execution_count": 5,
     "metadata": {},
     "output_type": "execute_result"
    }
   ],
   "source": [
    "C_S = C_S.rename(columns=\n",
    "{'DATE': 'Date', 'CHANNEL_NAME': 'Channel Name', \n",
    "'AUTHOR': 'Comment Author', \"CLASS\": \"Ham/Spam\", \n",
    "\"COMMENT_ID\": 'Id', \"CONTENT\": 'Content'})\n",
    "C_S.sample(10)"
   ]
  },
  {
   "cell_type": "code",
   "execution_count": 6,
   "metadata": {},
   "outputs": [
    {
     "data": {
      "text/html": [
       "<div>\n",
       "<style scoped>\n",
       "    .dataframe tbody tr th:only-of-type {\n",
       "        vertical-align: middle;\n",
       "    }\n",
       "\n",
       "    .dataframe tbody tr th {\n",
       "        vertical-align: top;\n",
       "    }\n",
       "\n",
       "    .dataframe thead th {\n",
       "        text-align: right;\n",
       "    }\n",
       "</style>\n",
       "<table border=\"1\" class=\"dataframe\">\n",
       "  <thead>\n",
       "    <tr style=\"text-align: right;\">\n",
       "      <th></th>\n",
       "      <th>Date</th>\n",
       "      <th>Channel Name</th>\n",
       "      <th>Comment Author</th>\n",
       "      <th>Content</th>\n",
       "      <th>Ham/Spam</th>\n",
       "      <th>Id</th>\n",
       "    </tr>\n",
       "  </thead>\n",
       "  <tbody>\n",
       "    <tr>\n",
       "      <th>92</th>\n",
       "      <td>2015-05-23T11:46:55.624000</td>\n",
       "      <td>LMFAO</td>\n",
       "      <td>Terry Short</td>\n",
       "      <td>Support the fight for your 4th amendment right...</td>\n",
       "      <td>1</td>\n",
       "      <td>z13tsligxuffvrxkz23qibyydnbagphm2</td>\n",
       "    </tr>\n",
       "    <tr>\n",
       "      <th>346</th>\n",
       "      <td>2015-06-05T19:02:05</td>\n",
       "      <td>Katy Perry</td>\n",
       "      <td>Kasia Fabisiewicz</td>\n",
       "      <td>&amp;lt;3﻿</td>\n",
       "      <td>0</td>\n",
       "      <td>z132enrpoy35yxpoe04cjr4zur3jvbyq3xo0k</td>\n",
       "    </tr>\n",
       "    <tr>\n",
       "      <th>264</th>\n",
       "      <td>NaN</td>\n",
       "      <td>EminemMusic</td>\n",
       "      <td>Ashim Limbu</td>\n",
       "      <td>YO GUYS IM 14 YEAR OLD RAPPER JUST STARTED RAP...</td>\n",
       "      <td>1</td>\n",
       "      <td>LneaDw26bFtUEhNudjpH0X1gcH2nF0v4w6dhXurctSU</td>\n",
       "    </tr>\n",
       "    <tr>\n",
       "      <th>189</th>\n",
       "      <td>2015-05-16T20:51:51.477000</td>\n",
       "      <td>LMFAO</td>\n",
       "      <td>はれたらいいね</td>\n",
       "      <td>So,cool！！﻿</td>\n",
       "      <td>0</td>\n",
       "      <td>z125ynbaple1d13c322isreomnqfwlbpm04</td>\n",
       "    </tr>\n",
       "    <tr>\n",
       "      <th>153</th>\n",
       "      <td>2014-09-22T23:23:33</td>\n",
       "      <td>Katy Perry</td>\n",
       "      <td>Vincent Lenzi</td>\n",
       "      <td>Free itunes $25 giftcard codes: http://shhort....</td>\n",
       "      <td>1</td>\n",
       "      <td>z12sfnzallq5t5iki23gfbjb0ynxgxjyc04</td>\n",
       "    </tr>\n",
       "    <tr>\n",
       "      <th>28</th>\n",
       "      <td>2015-05-27T03:47:34.735000</td>\n",
       "      <td>LMFAO</td>\n",
       "      <td>Jared Acevedo</td>\n",
       "      <td>Super awesome video&lt;br /&gt;﻿</td>\n",
       "      <td>0</td>\n",
       "      <td>z12rif2ypuzofjo0s22se3e5dzrnznq2z</td>\n",
       "    </tr>\n",
       "    <tr>\n",
       "      <th>326</th>\n",
       "      <td>2014-11-12T20:12:47</td>\n",
       "      <td>officialpsy</td>\n",
       "      <td>Arthur Teixeira</td>\n",
       "      <td>I wanted to know the name of the guy that danc...</td>\n",
       "      <td>0</td>\n",
       "      <td>z12usr54ppaxxf1dl23nhbybruapdnixw04</td>\n",
       "    </tr>\n",
       "    <tr>\n",
       "      <th>285</th>\n",
       "      <td>2013-09-05T18:08:08.377000</td>\n",
       "      <td>Shakira</td>\n",
       "      <td>fatiha el fallali</td>\n",
       "      <td>Shakira</td>\n",
       "      <td>0</td>\n",
       "      <td>_2viQ_Qnc6_VU7QGeFKeturpUPwo-jDiYu85rbtMPS8</td>\n",
       "    </tr>\n",
       "    <tr>\n",
       "      <th>391</th>\n",
       "      <td>2014-10-02T15:00:43.724000</td>\n",
       "      <td>LMFAO</td>\n",
       "      <td>xiaoying chen</td>\n",
       "      <td>Check out this video on YouTube:﻿</td>\n",
       "      <td>1</td>\n",
       "      <td>z12bdp1b5wekjb1ci22itf3alnfvzfibo04</td>\n",
       "    </tr>\n",
       "    <tr>\n",
       "      <th>144</th>\n",
       "      <td>2015-05-19T22:01:54.036000</td>\n",
       "      <td>LMFAO</td>\n",
       "      <td>Fire Ghost73</td>\n",
       "      <td>cooooooooooooolllllllllll﻿</td>\n",
       "      <td>0</td>\n",
       "      <td>z13jzdtr3nqkc5ooj04cilhxgzywzhfrnzc0k</td>\n",
       "    </tr>\n",
       "  </tbody>\n",
       "</table>\n",
       "</div>"
      ],
      "text/plain": [
       "                           Date Channel Name     Comment Author  \\\n",
       "92   2015-05-23T11:46:55.624000        LMFAO        Terry Short   \n",
       "346         2015-06-05T19:02:05   Katy Perry  Kasia Fabisiewicz   \n",
       "264                         NaN  EminemMusic        Ashim Limbu   \n",
       "189  2015-05-16T20:51:51.477000        LMFAO            はれたらいいね   \n",
       "153         2014-09-22T23:23:33   Katy Perry      Vincent Lenzi   \n",
       "28   2015-05-27T03:47:34.735000        LMFAO      Jared Acevedo   \n",
       "326         2014-11-12T20:12:47  officialpsy    Arthur Teixeira   \n",
       "285  2013-09-05T18:08:08.377000      Shakira  fatiha el fallali   \n",
       "391  2014-10-02T15:00:43.724000        LMFAO      xiaoying chen   \n",
       "144  2015-05-19T22:01:54.036000        LMFAO       Fire Ghost73   \n",
       "\n",
       "                                               Content  Ham/Spam  \\\n",
       "92   Support the fight for your 4th amendment right...         1   \n",
       "346                                             &lt;3﻿         0   \n",
       "264  YO GUYS IM 14 YEAR OLD RAPPER JUST STARTED RAP...         1   \n",
       "189                                         So,cool！！﻿         0   \n",
       "153  Free itunes $25 giftcard codes: http://shhort....         1   \n",
       "28                          Super awesome video<br />﻿         0   \n",
       "326  I wanted to know the name of the guy that danc...         0   \n",
       "285                                            Shakira         0   \n",
       "391                  Check out this video on YouTube:﻿         1   \n",
       "144                         cooooooooooooolllllllllll﻿         0   \n",
       "\n",
       "                                              Id  \n",
       "92             z13tsligxuffvrxkz23qibyydnbagphm2  \n",
       "346        z132enrpoy35yxpoe04cjr4zur3jvbyq3xo0k  \n",
       "264  LneaDw26bFtUEhNudjpH0X1gcH2nF0v4w6dhXurctSU  \n",
       "189          z125ynbaple1d13c322isreomnqfwlbpm04  \n",
       "153          z12sfnzallq5t5iki23gfbjb0ynxgxjyc04  \n",
       "28             z12rif2ypuzofjo0s22se3e5dzrnznq2z  \n",
       "326          z12usr54ppaxxf1dl23nhbybruapdnixw04  \n",
       "285  _2viQ_Qnc6_VU7QGeFKeturpUPwo-jDiYu85rbtMPS8  \n",
       "391          z12bdp1b5wekjb1ci22itf3alnfvzfibo04  \n",
       "144        z13jzdtr3nqkc5ooj04cilhxgzywzhfrnzc0k  "
      ]
     },
     "execution_count": 6,
     "metadata": {},
     "output_type": "execute_result"
    }
   ],
   "source": [
    "C_S=C_S[[\"Date\", \"Channel Name\", \"Comment Author\", \"Content\", \"Ham/Spam\", \"Id\"]]\n",
    "C_S.sample(10)"
   ]
  },
  {
   "cell_type": "code",
   "execution_count": 7,
   "metadata": {},
   "outputs": [
    {
     "data": {
      "text/html": [
       "<div>\n",
       "<style scoped>\n",
       "    .dataframe tbody tr th:only-of-type {\n",
       "        vertical-align: middle;\n",
       "    }\n",
       "\n",
       "    .dataframe tbody tr th {\n",
       "        vertical-align: top;\n",
       "    }\n",
       "\n",
       "    .dataframe thead th {\n",
       "        text-align: right;\n",
       "    }\n",
       "</style>\n",
       "<table border=\"1\" class=\"dataframe\">\n",
       "  <thead>\n",
       "    <tr style=\"text-align: right;\">\n",
       "      <th></th>\n",
       "      <th>Ham/Spam</th>\n",
       "    </tr>\n",
       "  </thead>\n",
       "  <tbody>\n",
       "    <tr>\n",
       "      <th>count</th>\n",
       "      <td>1956.000000</td>\n",
       "    </tr>\n",
       "    <tr>\n",
       "      <th>mean</th>\n",
       "      <td>0.513804</td>\n",
       "    </tr>\n",
       "    <tr>\n",
       "      <th>std</th>\n",
       "      <td>0.499937</td>\n",
       "    </tr>\n",
       "    <tr>\n",
       "      <th>min</th>\n",
       "      <td>0.000000</td>\n",
       "    </tr>\n",
       "    <tr>\n",
       "      <th>25%</th>\n",
       "      <td>0.000000</td>\n",
       "    </tr>\n",
       "    <tr>\n",
       "      <th>50%</th>\n",
       "      <td>1.000000</td>\n",
       "    </tr>\n",
       "    <tr>\n",
       "      <th>75%</th>\n",
       "      <td>1.000000</td>\n",
       "    </tr>\n",
       "    <tr>\n",
       "      <th>max</th>\n",
       "      <td>1.000000</td>\n",
       "    </tr>\n",
       "  </tbody>\n",
       "</table>\n",
       "</div>"
      ],
      "text/plain": [
       "          Ham/Spam\n",
       "count  1956.000000\n",
       "mean      0.513804\n",
       "std       0.499937\n",
       "min       0.000000\n",
       "25%       0.000000\n",
       "50%       1.000000\n",
       "75%       1.000000\n",
       "max       1.000000"
      ]
     },
     "execution_count": 7,
     "metadata": {},
     "output_type": "execute_result"
    }
   ],
   "source": [
    "C_S.describe()"
   ]
  },
  {
   "cell_type": "code",
   "execution_count": 8,
   "metadata": {},
   "outputs": [
    {
     "name": "stdout",
     "output_type": "stream",
     "text": [
      "<class 'pandas.core.frame.DataFrame'>\n",
      "Int64Index: 1956 entries, 0 to 369\n",
      "Data columns (total 6 columns):\n",
      " #   Column          Non-Null Count  Dtype \n",
      "---  ------          --------------  ----- \n",
      " 0   Date            1711 non-null   object\n",
      " 1   Channel Name    1956 non-null   object\n",
      " 2   Comment Author  1956 non-null   object\n",
      " 3   Content         1956 non-null   object\n",
      " 4   Ham/Spam        1956 non-null   int64 \n",
      " 5   Id              1956 non-null   object\n",
      "dtypes: int64(1), object(5)\n",
      "memory usage: 107.0+ KB\n"
     ]
    }
   ],
   "source": [
    "C_S.info() "
   ]
  },
  {
   "cell_type": "code",
   "execution_count": 9,
   "metadata": {},
   "outputs": [
    {
     "data": {
      "text/plain": [
       "(1956, 6)"
      ]
     },
     "execution_count": 9,
     "metadata": {},
     "output_type": "execute_result"
    }
   ],
   "source": [
    "C_S.shape"
   ]
  },
  {
   "cell_type": "code",
   "execution_count": 10,
   "metadata": {},
   "outputs": [
    {
     "data": {
      "text/plain": [
       "(1711, 6)"
      ]
     },
     "execution_count": 10,
     "metadata": {},
     "output_type": "execute_result"
    }
   ],
   "source": [
    "C_S.dropna().shape"
   ]
  },
  {
   "cell_type": "code",
   "execution_count": 11,
   "metadata": {},
   "outputs": [
    {
     "data": {
      "text/html": [
       "<div>\n",
       "<style scoped>\n",
       "    .dataframe tbody tr th:only-of-type {\n",
       "        vertical-align: middle;\n",
       "    }\n",
       "\n",
       "    .dataframe tbody tr th {\n",
       "        vertical-align: top;\n",
       "    }\n",
       "\n",
       "    .dataframe thead th {\n",
       "        text-align: right;\n",
       "    }\n",
       "</style>\n",
       "<table border=\"1\" class=\"dataframe\">\n",
       "  <thead>\n",
       "    <tr style=\"text-align: right;\">\n",
       "      <th></th>\n",
       "      <th>Date</th>\n",
       "      <th>Channel Name</th>\n",
       "      <th>Comment Author</th>\n",
       "      <th>Content</th>\n",
       "      <th>Ham/Spam</th>\n",
       "      <th>Id</th>\n",
       "    </tr>\n",
       "  </thead>\n",
       "  <tbody>\n",
       "    <tr>\n",
       "      <th>0</th>\n",
       "      <td>NaN</td>\n",
       "      <td>EminemMusic</td>\n",
       "      <td>Lisa Wellas</td>\n",
       "      <td>+447935454150 lovely girl talk to me xxx﻿</td>\n",
       "      <td>1</td>\n",
       "      <td>z12rwfnyyrbsefonb232i5ehdxzkjzjs2</td>\n",
       "    </tr>\n",
       "    <tr>\n",
       "      <th>2</th>\n",
       "      <td>NaN</td>\n",
       "      <td>EminemMusic</td>\n",
       "      <td>Ajkal Khan</td>\n",
       "      <td>my sister just received over 6,500 new &lt;a rel=...</td>\n",
       "      <td>1</td>\n",
       "      <td>z13vsfqirtavjvu0t22ezrgzyorwxhpf3</td>\n",
       "    </tr>\n",
       "    <tr>\n",
       "      <th>4</th>\n",
       "      <td>NaN</td>\n",
       "      <td>EminemMusic</td>\n",
       "      <td>Jihad Naser</td>\n",
       "      <td>Hello I&amp;#39;am from Palastine﻿</td>\n",
       "      <td>1</td>\n",
       "      <td>z13xjfr42z3uxdz2223gx5rrzs3dt5hna</td>\n",
       "    </tr>\n",
       "    <tr>\n",
       "      <th>6</th>\n",
       "      <td>NaN</td>\n",
       "      <td>EminemMusic</td>\n",
       "      <td>kyeman13</td>\n",
       "      <td>Go check out my rapping video called Four Whee...</td>\n",
       "      <td>1</td>\n",
       "      <td>z12zgrw5furdsn0sc233hfwavnznyhicq</td>\n",
       "    </tr>\n",
       "    <tr>\n",
       "      <th>8</th>\n",
       "      <td>NaN</td>\n",
       "      <td>EminemMusic</td>\n",
       "      <td>Muhammad Asim Mansha</td>\n",
       "      <td>Aslamu Lykum... From Pakistan﻿</td>\n",
       "      <td>1</td>\n",
       "      <td>z12gxdortqzwhhqas04cfjrwituzghb5tvk0k</td>\n",
       "    </tr>\n",
       "    <tr>\n",
       "      <th>...</th>\n",
       "      <td>...</td>\n",
       "      <td>...</td>\n",
       "      <td>...</td>\n",
       "      <td>...</td>\n",
       "      <td>...</td>\n",
       "      <td>...</td>\n",
       "    </tr>\n",
       "    <tr>\n",
       "      <th>440</th>\n",
       "      <td>NaN</td>\n",
       "      <td>EminemMusic</td>\n",
       "      <td>Ando Nesia - | MC | Music Producer</td>\n",
       "      <td>DO YOU KNOW HOW SEAN KINGSTON GOT FAMOUS WHY D...</td>\n",
       "      <td>1</td>\n",
       "      <td>LneaDw26bFv4NFg1m91sL1Aq1p-2N06VweQT4vOwTqc</td>\n",
       "    </tr>\n",
       "    <tr>\n",
       "      <th>442</th>\n",
       "      <td>NaN</td>\n",
       "      <td>EminemMusic</td>\n",
       "      <td>the34104</td>\n",
       "      <td>check out eminem latest track survival if u didnt</td>\n",
       "      <td>1</td>\n",
       "      <td>LneaDw26bFsVQRSG0ecctIfRIn4Od1tJqvnhDwCNqbI</td>\n",
       "    </tr>\n",
       "    <tr>\n",
       "      <th>443</th>\n",
       "      <td>NaN</td>\n",
       "      <td>EminemMusic</td>\n",
       "      <td>Dany PK</td>\n",
       "      <td>SUBSCRIBE TO MY CHANNEL X PLEASE!. SPARE</td>\n",
       "      <td>1</td>\n",
       "      <td>LneaDw26bFu3RCmyrWyP9S6wh1h9dBv3X95g1HzKAb4</td>\n",
       "    </tr>\n",
       "    <tr>\n",
       "      <th>444</th>\n",
       "      <td>NaN</td>\n",
       "      <td>EminemMusic</td>\n",
       "      <td>SmexyFriedChicken</td>\n",
       "      <td>Check out my videos guy! :) Hope you guys had ...</td>\n",
       "      <td>1</td>\n",
       "      <td>LneaDw26bFsD65dtIvAEObWYIYnFTqQDKBek_Ypz3J8</td>\n",
       "    </tr>\n",
       "    <tr>\n",
       "      <th>445</th>\n",
       "      <td>NaN</td>\n",
       "      <td>EminemMusic</td>\n",
       "      <td>The Guy That's Done Everything</td>\n",
       "      <td>3 yrs ago I had a health scare but thankfully ...</td>\n",
       "      <td>1</td>\n",
       "      <td>LneaDw26bFuvs-8oWkLpAFa6g3QHpWD8k7sbbMP3Bg8</td>\n",
       "    </tr>\n",
       "  </tbody>\n",
       "</table>\n",
       "<p>245 rows × 6 columns</p>\n",
       "</div>"
      ],
      "text/plain": [
       "    Date Channel Name                      Comment Author  \\\n",
       "0    NaN  EminemMusic                         Lisa Wellas   \n",
       "2    NaN  EminemMusic                          Ajkal Khan   \n",
       "4    NaN  EminemMusic                         Jihad Naser   \n",
       "6    NaN  EminemMusic                            kyeman13   \n",
       "8    NaN  EminemMusic                Muhammad Asim Mansha   \n",
       "..   ...          ...                                 ...   \n",
       "440  NaN  EminemMusic  Ando Nesia - | MC | Music Producer   \n",
       "442  NaN  EminemMusic                            the34104   \n",
       "443  NaN  EminemMusic                             Dany PK   \n",
       "444  NaN  EminemMusic                   SmexyFriedChicken   \n",
       "445  NaN  EminemMusic      The Guy That's Done Everything   \n",
       "\n",
       "                                               Content  Ham/Spam  \\\n",
       "0            +447935454150 lovely girl talk to me xxx﻿         1   \n",
       "2    my sister just received over 6,500 new <a rel=...         1   \n",
       "4                       Hello I&#39;am from Palastine﻿         1   \n",
       "6    Go check out my rapping video called Four Whee...         1   \n",
       "8                       Aslamu Lykum... From Pakistan﻿         1   \n",
       "..                                                 ...       ...   \n",
       "440  DO YOU KNOW HOW SEAN KINGSTON GOT FAMOUS WHY D...         1   \n",
       "442  check out eminem latest track survival if u didnt         1   \n",
       "443           SUBSCRIBE TO MY CHANNEL X PLEASE!. SPARE         1   \n",
       "444  Check out my videos guy! :) Hope you guys had ...         1   \n",
       "445  3 yrs ago I had a health scare but thankfully ...         1   \n",
       "\n",
       "                                              Id  \n",
       "0              z12rwfnyyrbsefonb232i5ehdxzkjzjs2  \n",
       "2              z13vsfqirtavjvu0t22ezrgzyorwxhpf3  \n",
       "4              z13xjfr42z3uxdz2223gx5rrzs3dt5hna  \n",
       "6              z12zgrw5furdsn0sc233hfwavnznyhicq  \n",
       "8          z12gxdortqzwhhqas04cfjrwituzghb5tvk0k  \n",
       "..                                           ...  \n",
       "440  LneaDw26bFv4NFg1m91sL1Aq1p-2N06VweQT4vOwTqc  \n",
       "442  LneaDw26bFsVQRSG0ecctIfRIn4Od1tJqvnhDwCNqbI  \n",
       "443  LneaDw26bFu3RCmyrWyP9S6wh1h9dBv3X95g1HzKAb4  \n",
       "444  LneaDw26bFsD65dtIvAEObWYIYnFTqQDKBek_Ypz3J8  \n",
       "445  LneaDw26bFuvs-8oWkLpAFa6g3QHpWD8k7sbbMP3Bg8  \n",
       "\n",
       "[245 rows x 6 columns]"
      ]
     },
     "execution_count": 11,
     "metadata": {},
     "output_type": "execute_result"
    }
   ],
   "source": [
    "C_S[C_S['Date'].isnull()]"
   ]
  },
  {
   "cell_type": "code",
   "execution_count": 12,
   "metadata": {},
   "outputs": [
    {
     "data": {
      "text/plain": [
       "3"
      ]
     },
     "execution_count": 12,
     "metadata": {},
     "output_type": "execute_result"
    }
   ],
   "source": [
    "C_S.duplicated().sum()"
   ]
  },
  {
   "cell_type": "code",
   "execution_count": 13,
   "metadata": {},
   "outputs": [
    {
     "data": {
      "text/plain": [
       "_2viQ_Qnc68fX3dYsfYuM-m4ELMJvxOQBmBOFHqGOk0    2\n",
       "LneaDw26bFuH6iFsSrjlJLJIX3qD4R8-emuZ-aGUj0o    2\n",
       "LneaDw26bFvPh9xBHNw1btQoyP60ay_WWthtvXCx37s    2\n",
       "LZQPQhLyRh80UYxNuaDWhIGQYNQ96IuCg-AYWqNPjpU    1\n",
       "LneaDw26bFsTytWDcS_4DFWlbxAlCfw2c_9PIcArNdw    1\n",
       "                                              ..\n",
       "z13qh3azhtvkvbypn04cflwaxoz5x51bip00k          1\n",
       "z122g12wzuztdjac4232jxuomqylcfjhc04            1\n",
       "z122ghagzyvyzrv3b23fzf4pelvusdoub              1\n",
       "z13hhrvguty1drrkk23ie1ywjn31zj0sl              1\n",
       "_2viQ_Qnc685RPw1aSa1tfrIuHXRvAQ2rPT9R06KTqA    1\n",
       "Name: Id, Length: 1953, dtype: int64"
      ]
     },
     "execution_count": 13,
     "metadata": {},
     "output_type": "execute_result"
    }
   ],
   "source": [
    "C_S.Id.value_counts()"
   ]
  },
  {
   "cell_type": "code",
   "execution_count": 14,
   "metadata": {},
   "outputs": [],
   "source": [
    "C_S.drop_duplicates(inplace=True)"
   ]
  },
  {
   "cell_type": "code",
   "execution_count": 15,
   "metadata": {},
   "outputs": [
    {
     "data": {
      "text/plain": [
       "0"
      ]
     },
     "execution_count": 15,
     "metadata": {},
     "output_type": "execute_result"
    }
   ],
   "source": [
    "C_S.duplicated().sum()"
   ]
  },
  {
   "cell_type": "code",
   "execution_count": 16,
   "metadata": {},
   "outputs": [],
   "source": [
    "C_S.drop(columns='Date',inplace=True)"
   ]
  },
  {
   "cell_type": "code",
   "execution_count": 17,
   "metadata": {},
   "outputs": [
    {
     "data": {
      "text/html": [
       "<div>\n",
       "<style scoped>\n",
       "    .dataframe tbody tr th:only-of-type {\n",
       "        vertical-align: middle;\n",
       "    }\n",
       "\n",
       "    .dataframe tbody tr th {\n",
       "        vertical-align: top;\n",
       "    }\n",
       "\n",
       "    .dataframe thead th {\n",
       "        text-align: right;\n",
       "    }\n",
       "</style>\n",
       "<table border=\"1\" class=\"dataframe\">\n",
       "  <thead>\n",
       "    <tr style=\"text-align: right;\">\n",
       "      <th></th>\n",
       "      <th>Channel Name</th>\n",
       "      <th>Comment Author</th>\n",
       "      <th>Content</th>\n",
       "      <th>Ham/Spam</th>\n",
       "      <th>Id</th>\n",
       "    </tr>\n",
       "  </thead>\n",
       "  <tbody>\n",
       "    <tr>\n",
       "      <th>391</th>\n",
       "      <td>EminemMusic</td>\n",
       "      <td>Honesty Wright</td>\n",
       "      <td>hay my is honesty wright i am 12year old  i lo...</td>\n",
       "      <td>0</td>\n",
       "      <td>z13mxl3zavzfc55as04ccf4ifo2textrofs</td>\n",
       "    </tr>\n",
       "    <tr>\n",
       "      <th>284</th>\n",
       "      <td>officialpsy</td>\n",
       "      <td>Super Cot</td>\n",
       "      <td>1 million dislikes!EPIC FAIL(ready for you fan...</td>\n",
       "      <td>0</td>\n",
       "      <td>z12gdhri2nzouxcxq04ci11h5we3edegkbg</td>\n",
       "    </tr>\n",
       "    <tr>\n",
       "      <th>123</th>\n",
       "      <td>EminemMusic</td>\n",
       "      <td>Andrew Guasch</td>\n",
       "      <td>Listen...Check out Andrew Guasch - Crazy, Sick...</td>\n",
       "      <td>1</td>\n",
       "      <td>LneaDw26bFs87f8zCtdgtSzADarWSHU_uPcclXWKxms</td>\n",
       "    </tr>\n",
       "    <tr>\n",
       "      <th>95</th>\n",
       "      <td>Shakira</td>\n",
       "      <td>Dunrell Pinder</td>\n",
       "      <td>i love her﻿</td>\n",
       "      <td>0</td>\n",
       "      <td>z13aznjg2ojwjlknm23yjbt4uniuepuxs04</td>\n",
       "    </tr>\n",
       "    <tr>\n",
       "      <th>244</th>\n",
       "      <td>EminemMusic</td>\n",
       "      <td>deazy99</td>\n",
       "      <td>I know that maybe no one will read this but PL...</td>\n",
       "      <td>1</td>\n",
       "      <td>LneaDw26bFu1Ru9jx_4ZrghWiGAVmVtFPtTTpL7ihGI</td>\n",
       "    </tr>\n",
       "  </tbody>\n",
       "</table>\n",
       "</div>"
      ],
      "text/plain": [
       "    Channel Name  Comment Author  \\\n",
       "391  EminemMusic  Honesty Wright   \n",
       "284  officialpsy       Super Cot   \n",
       "123  EminemMusic   Andrew Guasch   \n",
       "95       Shakira  Dunrell Pinder   \n",
       "244  EminemMusic         deazy99   \n",
       "\n",
       "                                               Content  Ham/Spam  \\\n",
       "391  hay my is honesty wright i am 12year old  i lo...         0   \n",
       "284  1 million dislikes!EPIC FAIL(ready for you fan...         0   \n",
       "123  Listen...Check out Andrew Guasch - Crazy, Sick...         1   \n",
       "95                                         i love her﻿         0   \n",
       "244  I know that maybe no one will read this but PL...         1   \n",
       "\n",
       "                                              Id  \n",
       "391          z13mxl3zavzfc55as04ccf4ifo2textrofs  \n",
       "284          z12gdhri2nzouxcxq04ci11h5we3edegkbg  \n",
       "123  LneaDw26bFs87f8zCtdgtSzADarWSHU_uPcclXWKxms  \n",
       "95           z13aznjg2ojwjlknm23yjbt4uniuepuxs04  \n",
       "244  LneaDw26bFu1Ru9jx_4ZrghWiGAVmVtFPtTTpL7ihGI  "
      ]
     },
     "execution_count": 17,
     "metadata": {},
     "output_type": "execute_result"
    }
   ],
   "source": [
    "C_S.sample(5)"
   ]
  },
  {
   "cell_type": "code",
   "execution_count": 18,
   "metadata": {},
   "outputs": [
    {
     "data": {
      "text/plain": [
       "M.E.S              8\n",
       "5000palo           7\n",
       "Louis Bryant       7\n",
       "Shadrach Grentz    7\n",
       "DanteBTV           6\n",
       "                  ..\n",
       "Nick McGoldrick    1\n",
       "Shaun Mac          1\n",
       "Denzel Saimi       1\n",
       "GX2re              1\n",
       "Latin Bosch        1\n",
       "Name: Comment Author, Length: 1792, dtype: int64"
      ]
     },
     "execution_count": 18,
     "metadata": {},
     "output_type": "execute_result"
    }
   ],
   "source": [
    "C_S['Comment Author'].value_counts()"
   ]
  },
  {
   "cell_type": "code",
   "execution_count": 19,
   "metadata": {},
   "outputs": [],
   "source": [
    "C_S.drop(columns=\"Id\", inplace=True)"
   ]
  },
  {
   "cell_type": "code",
   "execution_count": 20,
   "metadata": {},
   "outputs": [
    {
     "data": {
      "text/html": [
       "<div>\n",
       "<style scoped>\n",
       "    .dataframe tbody tr th:only-of-type {\n",
       "        vertical-align: middle;\n",
       "    }\n",
       "\n",
       "    .dataframe tbody tr th {\n",
       "        vertical-align: top;\n",
       "    }\n",
       "\n",
       "    .dataframe thead th {\n",
       "        text-align: right;\n",
       "    }\n",
       "</style>\n",
       "<table border=\"1\" class=\"dataframe\">\n",
       "  <thead>\n",
       "    <tr style=\"text-align: right;\">\n",
       "      <th></th>\n",
       "      <th>Channel Name</th>\n",
       "      <th>Comment Author</th>\n",
       "      <th>Content</th>\n",
       "      <th>Ham/Spam</th>\n",
       "    </tr>\n",
       "  </thead>\n",
       "  <tbody>\n",
       "    <tr>\n",
       "      <th>332</th>\n",
       "      <td>EminemMusic</td>\n",
       "      <td>Seth Ryan</td>\n",
       "      <td>Almost a billion﻿</td>\n",
       "      <td>0</td>\n",
       "    </tr>\n",
       "    <tr>\n",
       "      <th>225</th>\n",
       "      <td>officialpsy</td>\n",
       "      <td>none dies virgin life fucks us all</td>\n",
       "      <td>You think you're smart?        Headbutt your f...</td>\n",
       "      <td>0</td>\n",
       "    </tr>\n",
       "    <tr>\n",
       "      <th>340</th>\n",
       "      <td>officialpsy</td>\n",
       "      <td>Anthony1SV</td>\n",
       "      <td>Please do buy these new Christmas shirts! You ...</td>\n",
       "      <td>1</td>\n",
       "    </tr>\n",
       "    <tr>\n",
       "      <th>203</th>\n",
       "      <td>Shakira</td>\n",
       "      <td>Anderson St. Martin</td>\n",
       "      <td>Hello everyone my name&amp;#39;s Anderson and i&amp;#3...</td>\n",
       "      <td>1</td>\n",
       "    </tr>\n",
       "    <tr>\n",
       "      <th>68</th>\n",
       "      <td>LMFAO</td>\n",
       "      <td>nienke de kimpe</td>\n",
       "      <td>Cool﻿</td>\n",
       "      <td>0</td>\n",
       "    </tr>\n",
       "    <tr>\n",
       "      <th>84</th>\n",
       "      <td>LMFAO</td>\n",
       "      <td>Sana Kashif</td>\n",
       "      <td>Nice﻿</td>\n",
       "      <td>0</td>\n",
       "    </tr>\n",
       "    <tr>\n",
       "      <th>216</th>\n",
       "      <td>EminemMusic</td>\n",
       "      <td>lisabelb</td>\n",
       "      <td>CHECK OUT MY COVER OF LOVE THE WAY YOU LIE PLE...</td>\n",
       "      <td>1</td>\n",
       "    </tr>\n",
       "    <tr>\n",
       "      <th>175</th>\n",
       "      <td>Shakira</td>\n",
       "      <td>rijia babu</td>\n",
       "      <td>Hey, have you tried &amp;quot;DribblePROshot&amp;quot;...</td>\n",
       "      <td>1</td>\n",
       "    </tr>\n",
       "    <tr>\n",
       "      <th>113</th>\n",
       "      <td>Katy Perry</td>\n",
       "      <td>Alanoud Alsaleh</td>\n",
       "      <td>I started hating Katy Perry after finding out ...</td>\n",
       "      <td>0</td>\n",
       "    </tr>\n",
       "    <tr>\n",
       "      <th>131</th>\n",
       "      <td>Shakira</td>\n",
       "      <td>Basanagowda Policepatil</td>\n",
       "      <td>Very nice</td>\n",
       "      <td>0</td>\n",
       "    </tr>\n",
       "    <tr>\n",
       "      <th>208</th>\n",
       "      <td>officialpsy</td>\n",
       "      <td>Isuzu</td>\n",
       "      <td>P E A C E  &amp;amp;  L O V E  ! !﻿</td>\n",
       "      <td>0</td>\n",
       "    </tr>\n",
       "    <tr>\n",
       "      <th>336</th>\n",
       "      <td>Katy Perry</td>\n",
       "      <td>DIIL GANG</td>\n",
       "      <td>http://www.ermail.pl/dolacz/UnNfY2I=          ...</td>\n",
       "      <td>1</td>\n",
       "    </tr>\n",
       "    <tr>\n",
       "      <th>214</th>\n",
       "      <td>EminemMusic</td>\n",
       "      <td>Æle Skittles</td>\n",
       "      <td>subcribe to us an we will subscribe back</td>\n",
       "      <td>1</td>\n",
       "    </tr>\n",
       "    <tr>\n",
       "      <th>1</th>\n",
       "      <td>Shakira</td>\n",
       "      <td>Tiza Arellano</td>\n",
       "      <td>I love song ﻿</td>\n",
       "      <td>0</td>\n",
       "    </tr>\n",
       "    <tr>\n",
       "      <th>241</th>\n",
       "      <td>Katy Perry</td>\n",
       "      <td>sebastian hudson</td>\n",
       "      <td>katy is mine the girl of my dreams ♥﻿</td>\n",
       "      <td>0</td>\n",
       "    </tr>\n",
       "    <tr>\n",
       "      <th>283</th>\n",
       "      <td>officialpsy</td>\n",
       "      <td>StarBlade34 OverLord</td>\n",
       "      <td>Lol this youtuber (officialpsy) is getting so ...</td>\n",
       "      <td>0</td>\n",
       "    </tr>\n",
       "    <tr>\n",
       "      <th>350</th>\n",
       "      <td>Shakira</td>\n",
       "      <td>Chelsea Fischer</td>\n",
       "      <td>Love this song !!!!!!</td>\n",
       "      <td>0</td>\n",
       "    </tr>\n",
       "    <tr>\n",
       "      <th>79</th>\n",
       "      <td>LMFAO</td>\n",
       "      <td>Kenster</td>\n",
       "      <td>Who knows the name of that girl?.. and that on...</td>\n",
       "      <td>0</td>\n",
       "    </tr>\n",
       "    <tr>\n",
       "      <th>98</th>\n",
       "      <td>Katy Perry</td>\n",
       "      <td>Yoshi does Minecraft</td>\n",
       "      <td>Are those real animals﻿</td>\n",
       "      <td>0</td>\n",
       "    </tr>\n",
       "    <tr>\n",
       "      <th>429</th>\n",
       "      <td>LMFAO</td>\n",
       "      <td>Ksenia Vladimirova</td>\n",
       "      <td>Looooooooove this song!!!!!!!!!:))))))﻿</td>\n",
       "      <td>0</td>\n",
       "    </tr>\n",
       "  </tbody>\n",
       "</table>\n",
       "</div>"
      ],
      "text/plain": [
       "    Channel Name                      Comment Author  \\\n",
       "332  EminemMusic                           Seth Ryan   \n",
       "225  officialpsy  none dies virgin life fucks us all   \n",
       "340  officialpsy                          Anthony1SV   \n",
       "203      Shakira                 Anderson St. Martin   \n",
       "68         LMFAO                     nienke de kimpe   \n",
       "84         LMFAO                         Sana Kashif   \n",
       "216  EminemMusic                            lisabelb   \n",
       "175      Shakira                          rijia babu   \n",
       "113   Katy Perry                     Alanoud Alsaleh   \n",
       "131      Shakira             Basanagowda Policepatil   \n",
       "208  officialpsy                               Isuzu   \n",
       "336   Katy Perry                           DIIL GANG   \n",
       "214  EminemMusic                        Æle Skittles   \n",
       "1        Shakira                       Tiza Arellano   \n",
       "241   Katy Perry                    sebastian hudson   \n",
       "283  officialpsy                StarBlade34 OverLord   \n",
       "350      Shakira                     Chelsea Fischer   \n",
       "79         LMFAO                             Kenster   \n",
       "98    Katy Perry                Yoshi does Minecraft   \n",
       "429        LMFAO                  Ksenia Vladimirova   \n",
       "\n",
       "                                               Content  Ham/Spam  \n",
       "332                                  Almost a billion﻿         0  \n",
       "225  You think you're smart?        Headbutt your f...         0  \n",
       "340  Please do buy these new Christmas shirts! You ...         1  \n",
       "203  Hello everyone my name&#39;s Anderson and i&#3...         1  \n",
       "68                                               Cool﻿         0  \n",
       "84                                               Nice﻿         0  \n",
       "216  CHECK OUT MY COVER OF LOVE THE WAY YOU LIE PLE...         1  \n",
       "175  Hey, have you tried &quot;DribblePROshot&quot;...         1  \n",
       "113  I started hating Katy Perry after finding out ...         0  \n",
       "131                                          Very nice         0  \n",
       "208                    P E A C E  &amp;  L O V E  ! !﻿         0  \n",
       "336  http://www.ermail.pl/dolacz/UnNfY2I=          ...         1  \n",
       "214           subcribe to us an we will subscribe back         1  \n",
       "1                                        I love song ﻿         0  \n",
       "241              katy is mine the girl of my dreams ♥﻿         0  \n",
       "283  Lol this youtuber (officialpsy) is getting so ...         0  \n",
       "350                              Love this song !!!!!!         0  \n",
       "79   Who knows the name of that girl?.. and that on...         0  \n",
       "98                             Are those real animals﻿         0  \n",
       "429            Looooooooove this song!!!!!!!!!:))))))﻿         0  "
      ]
     },
     "execution_count": 20,
     "metadata": {},
     "output_type": "execute_result"
    }
   ],
   "source": [
    "C_S.sample(20)"
   ]
  },
  {
   "attachments": {},
   "cell_type": "markdown",
   "metadata": {},
   "source": [
    "## Visualization<a id = \"v\">"
   ]
  },
  {
   "attachments": {},
   "cell_type": "markdown",
   "metadata": {},
   "source": [
    "# Univariate\n"
   ]
  },
  {
   "cell_type": "code",
   "execution_count": 21,
   "metadata": {},
   "outputs": [
    {
     "data": {
      "image/png": "[encoded data removed]",
      "text/plain": [
       "<Figure size 640x480 with 1 Axes>"
      ]
     },
     "metadata": {},
     "output_type": "display_data"
    }
   ],
   "source": [
    "C_S['Channel Name'].value_counts().plot(kind='bar', rot=0)\n",
    "plt.tight_layout()\n",
    "plt.xlabel('Channel Name')\n",
    "plt.ylabel('C_S Count of Comments')\n",
    "plt.show()"
   ]
  },
  {
   "cell_type": "code",
   "execution_count": 22,
   "metadata": {},
   "outputs": [
    {
     "data": {
      "image/png": "[encoded data removed]",
      "text/plain": [
       "<Figure size 640x480 with 1 Axes>"
      ]
     },
     "metadata": {},
     "output_type": "display_data"
    }
   ],
   "source": [
    "C_S['Ham/Spam'].value_counts().plot(kind='bar',rot=0)\n",
    "plt.xlabel(\"Spam/Ham (0 : Ham  1 : Spam)\",labelpad=12)\n",
    "plt.ylabel('Count of Spam/Ham',labelpad=12)\n",
    "plt.show()"
   ]
  },
  {
   "attachments": {},
   "cell_type": "markdown",
   "metadata": {},
   "source": [
    "# Bivariate"
   ]
  },
  {
   "cell_type": "code",
   "execution_count": 23,
   "metadata": {},
   "outputs": [
    {
     "data": {
      "text/plain": [
       "Text(0.5, 0, 'Channel Name')"
      ]
     },
     "execution_count": 23,
     "metadata": {},
     "output_type": "execute_result"
    },
    {
     "data": {
      "image/png": "[encoded data removed]",
      "text/plain": [
       "<Figure size 640x480 with 1 Axes>"
      ]
     },
     "metadata": {},
     "output_type": "display_data"
    }
   ],
   "source": [
    "mask1=C_S.groupby('Channel Name')['Ham/Spam'].sum()\n",
    "plt.bar(height=mask1.values,x=mask1.index)\n",
    "plt.ylabel('Spams Count')\n",
    "plt.xlabel('Channel Name')"
   ]
  },
  {
   "cell_type": "code",
   "execution_count": 24,
   "metadata": {},
   "outputs": [],
   "source": [
    "mask2 = C_S.groupby('Channel Name')['Ham/Spam'].count()-mask1"
   ]
  },
  {
   "cell_type": "code",
   "execution_count": 25,
   "metadata": {},
   "outputs": [
    {
     "data": {
      "text/plain": [
       "Text(0.5, 0, 'Channel Name')"
      ]
     },
     "execution_count": 25,
     "metadata": {},
     "output_type": "execute_result"
    },
    {
     "data": {
      "image/png": "[encoded data removed]",
      "text/plain": [
       "<Figure size 640x480 with 1 Axes>"
      ]
     },
     "metadata": {},
     "output_type": "display_data"
    }
   ],
   "source": [
    "plt.bar(height=mask2.values,x=mask2.index)\n",
    "plt.ylabel('Hams Count')\n",
    "plt.xlabel('Channel Name')"
   ]
  },
  {
   "cell_type": "code",
   "execution_count": 26,
   "metadata": {},
   "outputs": [
    {
     "data": {
      "text/html": [
       "<div>\n",
       "<style scoped>\n",
       "    .dataframe tbody tr th:only-of-type {\n",
       "        vertical-align: middle;\n",
       "    }\n",
       "\n",
       "    .dataframe tbody tr th {\n",
       "        vertical-align: top;\n",
       "    }\n",
       "\n",
       "    .dataframe thead th {\n",
       "        text-align: right;\n",
       "    }\n",
       "</style>\n",
       "<table border=\"1\" class=\"dataframe\">\n",
       "  <thead>\n",
       "    <tr style=\"text-align: right;\">\n",
       "      <th></th>\n",
       "      <th>Channel Name</th>\n",
       "      <th>Comment Author</th>\n",
       "      <th>Content</th>\n",
       "      <th>Ham/Spam</th>\n",
       "    </tr>\n",
       "  </thead>\n",
       "  <tbody>\n",
       "    <tr>\n",
       "      <th>0</th>\n",
       "      <td>officialpsy</td>\n",
       "      <td>Julius NM</td>\n",
       "      <td>Huh, anyway check out this you[tube] channel: ...</td>\n",
       "      <td>1</td>\n",
       "    </tr>\n",
       "    <tr>\n",
       "      <th>1</th>\n",
       "      <td>officialpsy</td>\n",
       "      <td>adam riyati</td>\n",
       "      <td>Hey guys check out my new channel and our firs...</td>\n",
       "      <td>1</td>\n",
       "    </tr>\n",
       "    <tr>\n",
       "      <th>2</th>\n",
       "      <td>officialpsy</td>\n",
       "      <td>Evgeny Murashkin</td>\n",
       "      <td>just for test I have to say murdev.com</td>\n",
       "      <td>1</td>\n",
       "    </tr>\n",
       "    <tr>\n",
       "      <th>3</th>\n",
       "      <td>officialpsy</td>\n",
       "      <td>ElNino Melendez</td>\n",
       "      <td>me shaking my sexy ass on my channel enjoy ^_^ ﻿</td>\n",
       "      <td>1</td>\n",
       "    </tr>\n",
       "    <tr>\n",
       "      <th>4</th>\n",
       "      <td>officialpsy</td>\n",
       "      <td>GsMega</td>\n",
       "      <td>watch?v=vtaRGgvGtWQ   Check this out .﻿</td>\n",
       "      <td>1</td>\n",
       "    </tr>\n",
       "    <tr>\n",
       "      <th>...</th>\n",
       "      <td>...</td>\n",
       "      <td>...</td>\n",
       "      <td>...</td>\n",
       "      <td>...</td>\n",
       "    </tr>\n",
       "    <tr>\n",
       "      <th>365</th>\n",
       "      <td>Shakira</td>\n",
       "      <td>Katie Mettam</td>\n",
       "      <td>I love this song because we sing it at Camp al...</td>\n",
       "      <td>0</td>\n",
       "    </tr>\n",
       "    <tr>\n",
       "      <th>366</th>\n",
       "      <td>Shakira</td>\n",
       "      <td>Sabina Pearson-Smith</td>\n",
       "      <td>I love this song for two reasons: 1.it is abou...</td>\n",
       "      <td>0</td>\n",
       "    </tr>\n",
       "    <tr>\n",
       "      <th>367</th>\n",
       "      <td>Shakira</td>\n",
       "      <td>jeffrey jules</td>\n",
       "      <td>wow</td>\n",
       "      <td>0</td>\n",
       "    </tr>\n",
       "    <tr>\n",
       "      <th>368</th>\n",
       "      <td>Shakira</td>\n",
       "      <td>Aishlin Maciel</td>\n",
       "      <td>Shakira u are so wiredo</td>\n",
       "      <td>0</td>\n",
       "    </tr>\n",
       "    <tr>\n",
       "      <th>369</th>\n",
       "      <td>Shakira</td>\n",
       "      <td>Latin Bosch</td>\n",
       "      <td>Shakira is the best dancer</td>\n",
       "      <td>0</td>\n",
       "    </tr>\n",
       "  </tbody>\n",
       "</table>\n",
       "<p>1953 rows × 4 columns</p>\n",
       "</div>"
      ],
      "text/plain": [
       "    Channel Name        Comment Author  \\\n",
       "0    officialpsy             Julius NM   \n",
       "1    officialpsy           adam riyati   \n",
       "2    officialpsy      Evgeny Murashkin   \n",
       "3    officialpsy       ElNino Melendez   \n",
       "4    officialpsy                GsMega   \n",
       "..           ...                   ...   \n",
       "365      Shakira          Katie Mettam   \n",
       "366      Shakira  Sabina Pearson-Smith   \n",
       "367      Shakira         jeffrey jules   \n",
       "368      Shakira        Aishlin Maciel   \n",
       "369      Shakira           Latin Bosch   \n",
       "\n",
       "                                               Content  Ham/Spam  \n",
       "0    Huh, anyway check out this you[tube] channel: ...         1  \n",
       "1    Hey guys check out my new channel and our firs...         1  \n",
       "2               just for test I have to say murdev.com         1  \n",
       "3     me shaking my sexy ass on my channel enjoy ^_^ ﻿         1  \n",
       "4              watch?v=vtaRGgvGtWQ   Check this out .﻿         1  \n",
       "..                                                 ...       ...  \n",
       "365  I love this song because we sing it at Camp al...         0  \n",
       "366  I love this song for two reasons: 1.it is abou...         0  \n",
       "367                                                wow         0  \n",
       "368                            Shakira u are so wiredo         0  \n",
       "369                         Shakira is the best dancer         0  \n",
       "\n",
       "[1953 rows x 4 columns]"
      ]
     },
     "execution_count": 26,
     "metadata": {},
     "output_type": "execute_result"
    }
   ],
   "source": [
    "C_S"
   ]
  },
  {
   "cell_type": "code",
   "execution_count": 27,
   "metadata": {},
   "outputs": [
    {
     "data": {
      "text/plain": [
       "M.E.S              8\n",
       "5000palo           7\n",
       "Louis Bryant       7\n",
       "Shadrach Grentz    7\n",
       "DanteBTV           6\n",
       "Derek Moya         5\n",
       "Hidden Love        5\n",
       "LuckyMusiqLive     5\n",
       "Scott Johnson      4\n",
       "James Cook         4\n",
       "Name: Comment Author, dtype: int64"
      ]
     },
     "execution_count": 27,
     "metadata": {},
     "output_type": "execute_result"
    }
   ],
   "source": [
    "C_S['Comment Author'].value_counts()[:10]"
   ]
  },
  {
   "cell_type": "code",
   "execution_count": 28,
   "metadata": {},
   "outputs": [
    {
     "data": {
      "text/html": [
       "<div>\n",
       "<style scoped>\n",
       "    .dataframe tbody tr th:only-of-type {\n",
       "        vertical-align: middle;\n",
       "    }\n",
       "\n",
       "    .dataframe tbody tr th {\n",
       "        vertical-align: top;\n",
       "    }\n",
       "\n",
       "    .dataframe thead th {\n",
       "        text-align: right;\n",
       "    }\n",
       "</style>\n",
       "<table border=\"1\" class=\"dataframe\">\n",
       "  <thead>\n",
       "    <tr style=\"text-align: right;\">\n",
       "      <th></th>\n",
       "      <th>Channel Name</th>\n",
       "      <th>Comment Author</th>\n",
       "      <th>Content</th>\n",
       "      <th>Ham/Spam</th>\n",
       "    </tr>\n",
       "  </thead>\n",
       "  <tbody>\n",
       "    <tr>\n",
       "      <th>320</th>\n",
       "      <td>EminemMusic</td>\n",
       "      <td>M.E.S</td>\n",
       "      <td>hey its M.E.S here I&amp;#39;m a young up and comi...</td>\n",
       "      <td>1</td>\n",
       "    </tr>\n",
       "    <tr>\n",
       "      <th>327</th>\n",
       "      <td>EminemMusic</td>\n",
       "      <td>M.E.S</td>\n",
       "      <td>im M.E.S an aspiring young rapper with high ho...</td>\n",
       "      <td>1</td>\n",
       "    </tr>\n",
       "    <tr>\n",
       "      <th>358</th>\n",
       "      <td>EminemMusic</td>\n",
       "      <td>M.E.S</td>\n",
       "      <td>hey its M.E.S here I&amp;#39;m a young up and comi...</td>\n",
       "      <td>1</td>\n",
       "    </tr>\n",
       "    <tr>\n",
       "      <th>380</th>\n",
       "      <td>EminemMusic</td>\n",
       "      <td>M.E.S</td>\n",
       "      <td>hey its M.E.S here I&amp;#39;m a young up and comi...</td>\n",
       "      <td>1</td>\n",
       "    </tr>\n",
       "    <tr>\n",
       "      <th>388</th>\n",
       "      <td>EminemMusic</td>\n",
       "      <td>M.E.S</td>\n",
       "      <td>hey its M.E.S here I&amp;#39;m a young up and comi...</td>\n",
       "      <td>1</td>\n",
       "    </tr>\n",
       "    <tr>\n",
       "      <th>404</th>\n",
       "      <td>EminemMusic</td>\n",
       "      <td>M.E.S</td>\n",
       "      <td>hey guys i know its annoying getting spammed s...</td>\n",
       "      <td>1</td>\n",
       "    </tr>\n",
       "    <tr>\n",
       "      <th>407</th>\n",
       "      <td>EminemMusic</td>\n",
       "      <td>M.E.S</td>\n",
       "      <td>hey guys i know you wanna skip over this but p...</td>\n",
       "      <td>1</td>\n",
       "    </tr>\n",
       "    <tr>\n",
       "      <th>439</th>\n",
       "      <td>EminemMusic</td>\n",
       "      <td>M.E.S</td>\n",
       "      <td>hey guys look im aware im spamming and it piss...</td>\n",
       "      <td>1</td>\n",
       "    </tr>\n",
       "  </tbody>\n",
       "</table>\n",
       "</div>"
      ],
      "text/plain": [
       "    Channel Name Comment Author  \\\n",
       "320  EminemMusic          M.E.S   \n",
       "327  EminemMusic          M.E.S   \n",
       "358  EminemMusic          M.E.S   \n",
       "380  EminemMusic          M.E.S   \n",
       "388  EminemMusic          M.E.S   \n",
       "404  EminemMusic          M.E.S   \n",
       "407  EminemMusic          M.E.S   \n",
       "439  EminemMusic          M.E.S   \n",
       "\n",
       "                                               Content  Ham/Spam  \n",
       "320  hey its M.E.S here I&#39;m a young up and comi...         1  \n",
       "327  im M.E.S an aspiring young rapper with high ho...         1  \n",
       "358  hey its M.E.S here I&#39;m a young up and comi...         1  \n",
       "380  hey its M.E.S here I&#39;m a young up and comi...         1  \n",
       "388  hey its M.E.S here I&#39;m a young up and comi...         1  \n",
       "404  hey guys i know its annoying getting spammed s...         1  \n",
       "407  hey guys i know you wanna skip over this but p...         1  \n",
       "439  hey guys look im aware im spamming and it piss...         1  "
      ]
     },
     "execution_count": 28,
     "metadata": {},
     "output_type": "execute_result"
    }
   ],
   "source": [
    "C_S[C_S['Comment Author']=='M.E.S']"
   ]
  },
  {
   "cell_type": "code",
   "execution_count": 29,
   "metadata": {},
   "outputs": [],
   "source": [
    "# C_S.__delitem__(\"Id\")\n",
    "# C_S.sample(10)"
   ]
  },
  {
   "cell_type": "code",
   "execution_count": 30,
   "metadata": {},
   "outputs": [],
   "source": [
    "# C_S['Date'] = pd.to_datetime(C_S['Date'])\n",
    "# C_S['Date'] = (C_S['Date'] - pd.Timestamp('2005-02-14')) / pd.Timedelta(seconds=10**9)\n",
    "# C_S['Date'] = C_S['Date'].values*10**9\n",
    "# C_S.sample(10)"
   ]
  },
  {
   "cell_type": "code",
   "execution_count": 31,
   "metadata": {},
   "outputs": [
    {
     "name": "stdout",
     "output_type": "stream",
     "text": [
      "<class 'pandas.core.frame.DataFrame'>\n",
      "Int64Index: 1953 entries, 0 to 369\n",
      "Data columns (total 4 columns):\n",
      " #   Column          Non-Null Count  Dtype \n",
      "---  ------          --------------  ----- \n",
      " 0   Channel Name    1953 non-null   object\n",
      " 1   Comment Author  1953 non-null   object\n",
      " 2   Content         1953 non-null   object\n",
      " 3   Ham/Spam        1953 non-null   int64 \n",
      "dtypes: int64(1), object(3)\n",
      "memory usage: 76.3+ KB\n"
     ]
    }
   ],
   "source": [
    "C_S.info()"
   ]
  },
  {
   "cell_type": "code",
   "execution_count": 32,
   "metadata": {},
   "outputs": [
    {
     "data": {
      "text/plain": [
       "<391x3823 sparse matrix of type '<class 'numpy.float64'>'\n",
       "\twith 4597 stored elements in Compressed Sparse Row format>"
      ]
     },
     "execution_count": 32,
     "metadata": {},
     "output_type": "execute_result"
    }
   ],
   "source": [
    "x = C_S['Content']\n",
    "y = C_S['Ham/Spam']\n",
    "x_train, x_test, y_train, y_test = train_test_split(x, y, test_size=0.2)\n",
    "vc = TfidfVectorizer()\n",
    "x_train_vectors = vc.fit_transform(x_train)\n",
    "x_test_vectors = vc.transform(x_test)\n",
    "x_test_vectors"
   ]
  },
  {
   "attachments": {},
   "cell_type": "markdown",
   "metadata": {},
   "source": [
    "## support vector machine (SVM) Using Grid Search Cross Validation <a id='m1'></a>"
   ]
  },
  {
   "attachments": {},
   "cell_type": "markdown",
   "metadata": {},
   "source": [
    "The SVM model is created and trained k times, each time using a different fold as the test set and the remaining folds as the training set."
   ]
  },
  {
   "cell_type": "code",
   "execution_count": 33,
   "metadata": {},
   "outputs": [],
   "source": [
    "svm_model = SVC()"
   ]
  },
  {
   "cell_type": "code",
   "execution_count": 34,
   "metadata": {},
   "outputs": [],
   "source": [
    "k = 5 \n",
    "scores = cross_val_score(svm_model, x_train_vectors, y_train, cv=k)"
   ]
  },
  {
   "cell_type": "code",
   "execution_count": 35,
   "metadata": {},
   "outputs": [
    {
     "name": "stdout",
     "output_type": "stream",
     "text": [
      "Accuracy scores for each fold: [0.93610224 0.96166134 0.93910256 0.94230769 0.94551282]\n"
     ]
    }
   ],
   "source": [
    "print(\"Accuracy scores for each fold:\", scores)"
   ]
  },
  {
   "cell_type": "code",
   "execution_count": 36,
   "metadata": {},
   "outputs": [
    {
     "name": "stdout",
     "output_type": "stream",
     "text": [
      "Average accuracy: 94.494%\n"
     ]
    }
   ],
   "source": [
    "average_accuracy = scores.mean()\n",
    "average_accuracy_formatted = \"{:.3f}%\".format(average_accuracy * 100)\n",
    "print(\"Average accuracy:\", average_accuracy_formatted)"
   ]
  },
  {
   "attachments": {},
   "cell_type": "markdown",
   "metadata": {},
   "source": [
    "specifies the hyperparameters and their corresponding values to be tuned during the grid search. The 'C' hyperparameter can take values of 0.1, 1, and 10, the 'gamma' hyperparameter can take values of 0.1, 0.01, and 0.001, and the 'kernel' hyperparameter can take values of 'linear' or 'rbf'."
   ]
  },
  {
   "cell_type": "code",
   "execution_count": 37,
   "metadata": {},
   "outputs": [
    {
     "data": {
      "text/plain": [
       "GridSearchCV(cv=5, estimator=SVC(),\n",
       "             param_grid={'C': [0.1, 1, 10], 'gamma': [0.1, 0.01, 0.001],\n",
       "                         'kernel': ['linear', 'rbf']})"
      ]
     },
     "execution_count": 37,
     "metadata": {},
     "output_type": "execute_result"
    }
   ],
   "source": [
    "param_grid = {\n",
    "    'C': [0.1, 1, 10],\n",
    "    'gamma': [0.1, 0.01, 0.001],\n",
    "    'kernel': ['linear', 'rbf']\n",
    "    }\n",
    "svm_model = svm.SVC()\n",
    "grid_search = GridSearchCV(estimator=svm_model, param_grid=param_grid, cv=5)\n",
    "grid_search.fit(x_train_vectors, y_train)"
   ]
  },
  {
   "attachments": {},
   "cell_type": "markdown",
   "metadata": {},
   "source": [
    "Retrieves the best estimator found during the grid search process.<br>The best estimator, svm_best_fit, is used to fit the SVM model to the training data.<br>Trained SVM model, svm_best_fit, to predict the target labels for the test data."
   ]
  },
  {
   "cell_type": "code",
   "execution_count": 38,
   "metadata": {},
   "outputs": [],
   "source": [
    "svm_best_fit = grid_search.best_estimator_\n",
    "svm_best_fit.fit(x_train_vectors,y_train)\n",
    "y_pred=svm_best_fit.predict(x_test_vectors)\n"
   ]
  },
  {
   "attachments": {},
   "cell_type": "markdown",
   "metadata": {},
   "source": [
    "## Evaluation"
   ]
  },
  {
   "attachments": {},
   "cell_type": "markdown",
   "metadata": {},
   "source": [
    "Display a summary of various evaluation metrics for each class in the classification problem and the accuracy of the model: <br>-  Precision<br>- Recall<br>- F1-score<br>- Support"
   ]
  },
  {
   "cell_type": "code",
   "execution_count": 39,
   "metadata": {},
   "outputs": [
    {
     "name": "stdout",
     "output_type": "stream",
     "text": [
      "              precision    recall  f1-score   support\n",
      "\n",
      "           0       0.94      0.93      0.94       180\n",
      "           1       0.94      0.95      0.95       211\n",
      "\n",
      "    accuracy                           0.94       391\n",
      "   macro avg       0.94      0.94      0.94       391\n",
      "weighted avg       0.94      0.94      0.94       391\n",
      "\n"
     ]
    }
   ],
   "source": [
    "print(classification_report(y_test, y_pred))"
   ]
  },
  {
   "cell_type": "code",
   "execution_count": 40,
   "metadata": {},
   "outputs": [],
   "source": [
    "from sklearn.metrics import accuracy_score"
   ]
  },
  {
   "cell_type": "code",
   "execution_count": 41,
   "metadata": {},
   "outputs": [
    {
     "name": "stdout",
     "output_type": "stream",
     "text": [
      "Best Parameters:  {'C': 10, 'gamma': 0.1, 'kernel': 'rbf'}\n"
     ]
    }
   ],
   "source": [
    "print(\"Best Parameters: \", grid_search.best_params_)"
   ]
  },
  {
   "cell_type": "code",
   "execution_count": 42,
   "metadata": {},
   "outputs": [],
   "source": [
    "cm = confusion_matrix(y_test, y_pred)"
   ]
  },
  {
   "cell_type": "code",
   "execution_count": 43,
   "metadata": {},
   "outputs": [
    {
     "data": {
      "image/png": "[encoded data removed]",
      "text/plain": [
       "<Figure size 800x600 with 2 Axes>"
      ]
     },
     "metadata": {},
     "output_type": "display_data"
    }
   ],
   "source": [
    "labels = ['Ham', 'Spam']\n",
    "\n",
    "plt.figure(figsize=(8, 6))\n",
    "sns.heatmap(cm, annot=True, fmt='d', cmap='Blues', xticklabels=labels, yticklabels=labels)\n",
    "plt.xlabel('Predicted')\n",
    "plt.ylabel('Actual')\n",
    "plt.title('Confusion Matrix')\n",
    "plt.show()"
   ]
  },
  {
   "attachments": {},
   "cell_type": "markdown",
   "metadata": {},
   "source": [
    "## Logistic Regression<a id='m2'></a>"
   ]
  },
  {
   "attachments": {},
   "cell_type": "markdown",
   "metadata": {},
   "source": [
    " model the relationship between the input features and the probability of the positive class. It takes any real-valued number as input and maps it to a value between 0 and 1, representing the estimated probability."
   ]
  },
  {
   "cell_type": "code",
   "execution_count": 44,
   "metadata": {},
   "outputs": [],
   "source": [
    "logistic_regression = LogisticRegression()"
   ]
  },
  {
   "cell_type": "code",
   "execution_count": 45,
   "metadata": {},
   "outputs": [],
   "source": [
    "k = 5 \n",
    "scores = cross_val_score(logistic_regression, x_train_vectors, y_train, cv=k)"
   ]
  },
  {
   "cell_type": "code",
   "execution_count": 46,
   "metadata": {},
   "outputs": [
    {
     "name": "stdout",
     "output_type": "stream",
     "text": [
      "Accuracy scores for each fold: [0.92332268 0.95207668 0.93269231 0.93589744 0.93910256]\n"
     ]
    }
   ],
   "source": [
    "print(\"Accuracy scores for each fold:\", scores)"
   ]
  },
  {
   "cell_type": "code",
   "execution_count": 47,
   "metadata": {},
   "outputs": [
    {
     "name": "stdout",
     "output_type": "stream",
     "text": [
      "Average accuracy: 93.662%\n"
     ]
    }
   ],
   "source": [
    "average_accuracy = scores.mean()\n",
    "average_accuracy_formatted = \"{:.3f}%\".format(average_accuracy * 100)\n",
    "print(\"Average accuracy:\", average_accuracy_formatted)"
   ]
  },
  {
   "attachments": {},
   "cell_type": "markdown",
   "metadata": {},
   "source": [
    "the grid search process, It apply all possible combinations of the hyperparameter values will be evaluated. This helps identify the best combination of hyperparameters"
   ]
  },
  {
   "cell_type": "code",
   "execution_count": 48,
   "metadata": {},
   "outputs": [],
   "source": [
    "param_grid = {\n",
    "    'C': [0.1, 1, 10],\n",
    "    'solver': ['liblinear', 'lbfgs']\n",
    "}"
   ]
  },
  {
   "cell_type": "code",
   "execution_count": 49,
   "metadata": {},
   "outputs": [],
   "source": [
    "grid_search = GridSearchCV(logistic_regression, param_grid, cv=5)"
   ]
  },
  {
   "cell_type": "code",
   "execution_count": 50,
   "metadata": {},
   "outputs": [
    {
     "data": {
      "text/plain": [
       "GridSearchCV(cv=5, estimator=LogisticRegression(),\n",
       "             param_grid={'C': [0.1, 1, 10], 'solver': ['liblinear', 'lbfgs']})"
      ]
     },
     "execution_count": 50,
     "metadata": {},
     "output_type": "execute_result"
    }
   ],
   "source": [
    "grid_search.fit(x_train_vectors, y_train)"
   ]
  },
  {
   "cell_type": "code",
   "execution_count": 51,
   "metadata": {},
   "outputs": [
    {
     "name": "stdout",
     "output_type": "stream",
     "text": [
      "Best Parameters: {'C': 10, 'solver': 'liblinear'}\n"
     ]
    }
   ],
   "source": [
    "best_estimator = grid_search.best_estimator_\n",
    "best_params = grid_search.best_params_\n",
    "print(\"Best Parameters:\", best_params)"
   ]
  },
  {
   "cell_type": "code",
   "execution_count": 52,
   "metadata": {},
   "outputs": [
    {
     "data": {
      "text/plain": [
       "LogisticRegression()"
      ]
     },
     "execution_count": 52,
     "metadata": {},
     "output_type": "execute_result"
    }
   ],
   "source": [
    "logistic_regression.fit(x_train_vectors, y_train)"
   ]
  },
  {
   "cell_type": "code",
   "execution_count": 53,
   "metadata": {},
   "outputs": [],
   "source": [
    "y_pred = logistic_regression.predict(x_test_vectors)"
   ]
  },
  {
   "cell_type": "code",
   "execution_count": 54,
   "metadata": {},
   "outputs": [
    {
     "name": "stdout",
     "output_type": "stream",
     "text": [
      "Classification Report:\n",
      "              precision    recall  f1-score   support\n",
      "\n",
      "           0       0.94      0.93      0.94       180\n",
      "           1       0.94      0.95      0.95       211\n",
      "\n",
      "    accuracy                           0.94       391\n",
      "   macro avg       0.94      0.94      0.94       391\n",
      "weighted avg       0.94      0.94      0.94       391\n",
      "\n"
     ]
    }
   ],
   "source": [
    "report = classification_report(y_test, y_pred)\n",
    "print(\"Classification Report:\")\n",
    "print(report)"
   ]
  },
  {
   "cell_type": "code",
   "execution_count": 55,
   "metadata": {},
   "outputs": [],
   "source": [
    "cm = confusion_matrix(y_test, y_pred)"
   ]
  },
  {
   "cell_type": "code",
   "execution_count": 56,
   "metadata": {},
   "outputs": [
    {
     "data": {
      "image/png": "[encoded data removed]",
      "text/plain": [
       "<Figure size 800x600 with 2 Axes>"
      ]
     },
     "metadata": {},
     "output_type": "display_data"
    }
   ],
   "source": [
    "labels = ['Not Spam', 'Spam']\n",
    "plt.figure(figsize=(8, 6))\n",
    "sns.heatmap(cm, annot=True, fmt='d', cmap='Blues', xticklabels=labels, yticklabels=labels)\n",
    "plt.xlabel('Predicted')\n",
    "plt.ylabel('Actual')\n",
    "plt.title('Confusion Matrix')\n",
    "plt.show()"
   ]
  },
  {
   "attachments": {},
   "cell_type": "markdown",
   "metadata": {},
   "source": [
    "## Decision tree<a id='m3'></a>"
   ]
  },
  {
   "attachments": {},
   "cell_type": "markdown",
   "metadata": {},
   "source": [
    "Algorithm that starts by examining the entire dataset, which consists of input features and corresponding target labels. At the root node of the tree, the algorithm evaluates a feature that best splits the data into different subsets based on certain criteria (Gini impurity or entropy)."
   ]
  },
  {
   "cell_type": "code",
   "execution_count": 57,
   "metadata": {},
   "outputs": [],
   "source": [
    "comments = C_S['Content']\n",
    "labels = C_S['Ham/Spam']"
   ]
  },
  {
   "attachments": {},
   "cell_type": "markdown",
   "metadata": {},
   "source": [
    "The data will be divided into 5 equal-sized subsets, and the model will be trained and evaluated 5 times.\n",
    "\\"
   ]
  },
  {
   "cell_type": "code",
   "execution_count": 58,
   "metadata": {},
   "outputs": [],
   "source": [
    "vectorizer = TfidfVectorizer()\n",
    "X = vectorizer.fit_transform(comments)"
   ]
  },
  {
   "cell_type": "code",
   "execution_count": 59,
   "metadata": {},
   "outputs": [],
   "source": [
    "classifier = DecisionTreeClassifier()"
   ]
  },
  {
   "cell_type": "code",
   "execution_count": 60,
   "metadata": {},
   "outputs": [],
   "source": [
    "scores = cross_val_score(classifier, X, labels, cv=5)\n",
    "mean_accuracy = scores.mean()"
   ]
  },
  {
   "cell_type": "code",
   "execution_count": 61,
   "metadata": {},
   "outputs": [
    {
     "name": "stdout",
     "output_type": "stream",
     "text": [
      "Mean Accuracy: 91.348%\n"
     ]
    }
   ],
   "source": [
    "print(\"Mean Accuracy: {:.3f}%\".format(mean_accuracy * 100))"
   ]
  },
  {
   "attachments": {},
   "cell_type": "markdown",
   "metadata": {},
   "source": [
    "Represents the maximum depth or levels allowed for the decision tree. The decision tree will stop growing and start pruning when it reaches this maximum depth."
   ]
  },
  {
   "cell_type": "code",
   "execution_count": 62,
   "metadata": {},
   "outputs": [],
   "source": [
    "param_grid = {\n",
    "    'criterion': ['gini', 'entropy'],\n",
    "    'max_depth': [None, 5, 10, 15],\n",
    "    'min_samples_split': [2, 5, 10],\n",
    "    'min_samples_leaf': [1, 2, 4]\n",
    "}"
   ]
  },
  {
   "cell_type": "code",
   "execution_count": 63,
   "metadata": {},
   "outputs": [
    {
     "data": {
      "text/plain": [
       "GridSearchCV(cv=5, estimator=DecisionTreeClassifier(),\n",
       "             param_grid={'criterion': ['gini', 'entropy'],\n",
       "                         'max_depth': [None, 5, 10, 15],\n",
       "                         'min_samples_leaf': [1, 2, 4],\n",
       "                         'min_samples_split': [2, 5, 10]})"
      ]
     },
     "execution_count": 63,
     "metadata": {},
     "output_type": "execute_result"
    }
   ],
   "source": [
    "grid_search = GridSearchCV(classifier, param_grid, cv=5)\n",
    "grid_search.fit(x_train_vectors, y_train)"
   ]
  },
  {
   "cell_type": "code",
   "execution_count": 64,
   "metadata": {},
   "outputs": [],
   "source": [
    "best_params = grid_search.best_params_\n",
    "best_score = grid_search.best_score_"
   ]
  },
  {
   "cell_type": "code",
   "execution_count": 65,
   "metadata": {},
   "outputs": [
    {
     "name": "stdout",
     "output_type": "stream",
     "text": [
      "Best Parameters: {'criterion': 'entropy', 'max_depth': 15, 'min_samples_leaf': 1, 'min_samples_split': 2}\n"
     ]
    }
   ],
   "source": [
    "print(\"Best Parameters:\", best_params)"
   ]
  },
  {
   "cell_type": "code",
   "execution_count": 66,
   "metadata": {},
   "outputs": [],
   "source": [
    "best_model = grid_search.best_estimator_\n",
    "y_pred = best_model.predict(x_test_vectors)"
   ]
  },
  {
   "cell_type": "code",
   "execution_count": 67,
   "metadata": {},
   "outputs": [
    {
     "name": "stdout",
     "output_type": "stream",
     "text": [
      "              precision    recall  f1-score   support\n",
      "\n",
      "           0       0.94      0.96      0.95       180\n",
      "           1       0.96      0.95      0.95       211\n",
      "\n",
      "    accuracy                           0.95       391\n",
      "   macro avg       0.95      0.95      0.95       391\n",
      "weighted avg       0.95      0.95      0.95       391\n",
      "\n"
     ]
    }
   ],
   "source": [
    "report = classification_report(y_test, y_pred)\n",
    "print(report)"
   ]
  },
  {
   "cell_type": "code",
   "execution_count": 68,
   "metadata": {},
   "outputs": [],
   "source": [
    "cm = confusion_matrix(y_test, y_pred)"
   ]
  },
  {
   "cell_type": "code",
   "execution_count": 69,
   "metadata": {},
   "outputs": [
    {
     "data": {
      "image/png": "[encoded data removed]",
      "text/plain": [
       "<Figure size 800x600 with 2 Axes>"
      ]
     },
     "metadata": {},
     "output_type": "display_data"
    }
   ],
   "source": [
    "plt.figure(figsize=(8, 6))\n",
    "sns.heatmap(cm, annot=True, fmt='d', cmap='Blues')\n",
    "plt.xlabel('Predicted')\n",
    "plt.ylabel('Actual')\n",
    "plt.title('Confusion Matrix')\n",
    "plt.show()"
   ]
  },
  {
   "attachments": {},
   "cell_type": "markdown",
   "metadata": {},
   "source": [
    "## Comparison Plot Between The Three Models<a id='comp'>"
   ]
  },
  {
   "cell_type": "code",
   "execution_count": 70,
   "metadata": {},
   "outputs": [
    {
     "data": {
      "image/png": "[encoded data removed]",
      "text/plain": [
       "<Figure size 800x600 with 1 Axes>"
      ]
     },
     "metadata": {},
     "output_type": "display_data"
    }
   ],
   "source": [
    "accuracy_scores = np.array([98, 96, 96])\n",
    "\n",
    "models = np.array(['SVM', 'Logistic Regression', 'Decision Tree'])\n",
    "\n",
    "colors = ['blue', 'green', 'red']\n",
    "\n",
    "plt.figure(figsize=(8, 6))\n",
    "plt.bar(models, accuracy_scores, color=colors)\n",
    "\n",
    "for i, score in enumerate(accuracy_scores):\n",
    "    plt.text(i, score, f'{score}%', ha='center', va='bottom')\n",
    "\n",
    "plt.title('Accuracy Comparison')\n",
    "plt.xlabel('Models')\n",
    "plt.ylabel('Accuracy')\n",
    "\n",
    "plt.show()"
   ]
  },
  {
   "attachments": {},
   "cell_type": "markdown",
   "metadata": {},
   "source": [
    "1. Support Vector Machine(SVM) Model: The model achieved an accuracy of 94%-98%. It demonstrates strong predictive power and performs well.<br>\n",
    "2. Logistic Regression Model: The model achieved an accuracy of 93%-96%. It showcases good performance in classifying.<br>\n",
    "3. Decision Tree Model: The model achieved an accuracy of 93%-96%. It showcases similar performance to the logistic regression model."
   ]
  },
  {
   "attachments": {},
   "cell_type": "markdown",
   "metadata": {},
   "source": [
    "Overall, all three models performed well with high accuracies, indicating their effectiveness in classifying YouTube comments. The SVM model achieved identical accuracies, while the logistic regression and decision tree models achieved a slightly lower accuracy but still demonstrated respectable performance. Depending on the specific requirements and considerations of the task,"
   ]
  }
 ],
 "metadata": {
  "kernelspec": {
   "display_name": "Python 3",
   "language": "python",
   "name": "python3"
  },
  "language_info": {
   "codemirror_mode": {
    "name": "ipython",
    "version": 3
   },
   "file_extension": ".py",
   "mimetype": "text/x-python",
   "name": "python",
   "nbconvert_exporter": "python",
   "pygments_lexer": "ipython3",
   "version": "3.9.13"
  },
  "orig_nbformat": 4
 },
 "nbformat": 4,
 "nbformat_minor": 2
}
